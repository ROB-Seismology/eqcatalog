{
 "cells": [
  {
   "cell_type": "code",
   "execution_count": 1,
   "metadata": {},
   "outputs": [],
   "source": [
    "%matplotlib inline"
   ]
  },
  {
   "cell_type": "code",
   "execution_count": 2,
   "metadata": {},
   "outputs": [],
   "source": [
    "import eqcatalog"
   ]
  },
  {
   "cell_type": "code",
   "execution_count": 4,
   "metadata": {},
   "outputs": [
    {
     "name": "stdout",
     "output_type": "stream",
     "text": [
      "+------------+--------------+\n",
      "| Attribute  |    Value     |\n",
      "+------------+--------------+\n",
      "|     ID     |     6625     |\n",
      "|    name    | KINROOI (BE) |\n",
      "|    date    |  2018-05-25  |\n",
      "|    time    |   22:43:27   |\n",
      "|    lon     |    5.6872    |\n",
      "|    lat     |    51.175    |\n",
      "|   depth    |     16.6     |\n",
      "|     ML     |     3.1      |\n",
      "|    errt    |     0.33     |\n",
      "|    errh    |     0.61     |\n",
      "|    errz    |     0.5      |\n",
      "|    errM    |     0.2      |\n",
      "|   agency   |     ROB      |\n",
      "| event_type |      ke      |\n",
      "+------------+--------------+\n"
     ]
    }
   ],
   "source": [
    "id_earth = 6625\n",
    "[eq] = eqcatalog.rob.query_local_eq_catalog_by_id(id_earth)\n",
    "eq.print_info()"
   ]
  },
  {
   "cell_type": "code",
   "execution_count": 8,
   "metadata": {},
   "outputs": [
    {
     "name": "stdout",
     "output_type": "stream",
     "text": [
      "SELECT * FROM web_input JOIN web_analyse ON web_input.id_web=web_analyse.id_web LEFT JOIN web_location ON web_input.id_web=web_location.id_web AND web_location.quality >= 6 WHERE web_analyse.id_earth = 6625 AND web_analyse.m_fiability >= 20.0 AND web_analyse.deleted = false\n"
     ]
    }
   ],
   "source": [
    "dyfi = eq.get_macroseismic_enquiries(verbose=True)"
   ]
  },
  {
   "cell_type": "code",
   "execution_count": 9,
   "metadata": {},
   "outputs": [
    {
     "data": {
      "text/plain": [
       "1691"
      ]
     },
     "execution_count": 9,
     "metadata": {},
     "output_type": "execute_result"
    }
   ],
   "source": [
    "len(dyfi)"
   ]
  },
  {
   "cell_type": "code",
   "execution_count": 17,
   "metadata": {},
   "outputs": [
    {
     "name": "stdout",
     "output_type": "stream",
     "text": [
      "SELECT * FROM web_input JOIN web_analyse ON web_input.id_web=web_analyse.id_web LEFT JOIN web_location ON web_input.id_web=web_location.id_web AND web_location.quality >= 6 WHERE web_analyse.id_earth > 0 AND web_analyse.m_fiability >= 20.0 AND web_analyse.deleted = false\n",
      "32852\n"
     ]
    }
   ],
   "source": [
    "all_dyfi = eqcatalog.rob.query_web_macro_enquiries('all', verbose=True)\n",
    "print(len(all_dyfi))"
   ]
  },
  {
   "cell_type": "code",
   "execution_count": 18,
   "metadata": {},
   "outputs": [
    {
     "name": "stdout",
     "output_type": "stream",
     "text": [
      "3942\n"
     ]
    }
   ],
   "source": [
    "unlinked_dyfi = eqcatalog.rob.query_web_macro_enquiries(None)\n",
    "print(len(unlinked_dyfi))"
   ]
  },
  {
   "cell_type": "code",
   "execution_count": 21,
   "metadata": {},
   "outputs": [
    {
     "data": {
      "text/plain": [
       "[18]"
      ]
     },
     "execution_count": 21,
     "metadata": {},
     "output_type": "execute_result"
    }
   ],
   "source": [
    "unlinked_dyfi[-1].get_prop_values('time_day')"
   ]
  },
  {
   "cell_type": "code",
   "execution_count": 23,
   "metadata": {},
   "outputs": [
    {
     "data": {
      "text/plain": [
       "[u'0', u'1', u'2']"
      ]
     },
     "execution_count": 23,
     "metadata": {},
     "output_type": "execute_result"
    }
   ],
   "source": [
    "dyfi[-100:].get_unique_prop_values('asleep')"
   ]
  },
  {
   "cell_type": "code",
   "execution_count": 27,
   "metadata": {},
   "outputs": [
    {
     "data": {
      "text/plain": [
       "array([83, 83, 83, 86, 86, 87, 87, 89, 92, 97], dtype='timedelta64[h]')"
      ]
     },
     "execution_count": 27,
     "metadata": {},
     "output_type": "execute_result"
    }
   ],
   "source": [
    "dyfi[-10:].get_elapsed_times().astype('m8[h]')"
   ]
  },
  {
   "cell_type": "code",
   "execution_count": 39,
   "metadata": {},
   "outputs": [
    {
     "name": "stdout",
     "output_type": "stream",
     "text": [
      "[u'Visserij 161/F', u'Visserij 161/F', u'Visserij 161', u'', u'', u'', u'', u'', u'', u'', u'', u'', u'', u'', u'', u'', u'', u'', u'', u'']\n"
     ]
    }
   ],
   "source": [
    "subsel = dyfi.subselect_by_property('name', [\"Kris Vanneste\"])\n",
    "print(subsel.get_prop_values('street'))"
   ]
  },
  {
   "cell_type": "code",
   "execution_count": 40,
   "metadata": {},
   "outputs": [
    {
     "data": {
      "text/plain": [
       "array([5.7309, 5.7168,    nan, 5.5009, 5.4863, 5.5893,    nan,    nan,\n",
       "          nan, 5.579 ])"
      ]
     },
     "execution_count": 40,
     "metadata": {},
     "output_type": "execute_result"
    }
   ],
   "source": [
    "dyfi[-10:].longitudes"
   ]
  },
  {
   "cell_type": "code",
   "execution_count": 41,
   "metadata": {},
   "outputs": [
    {
     "data": {
      "text/plain": [
       "[u'HOOGBAAN, 3650 DILSEN-STOKKEM, BE',\n",
       " u'KANTONS WEG 3, 3650 DILSEN-STOKKEM, BE',\n",
       " u'',\n",
       " u'WIESVELDLAAN 2 BUS 12, 3740 BILZEN, BE',\n",
       " u'BOVENSTRAAT, 3730 HOESELT, BE',\n",
       " u'VOSTERTSTRAAT 77, 3960 BREE, BE',\n",
       " u'',\n",
       " u'',\n",
       " u'',\n",
       " u'CAMPSTRAAT, 3670 GRUITRODE, BE']"
      ]
     },
     "execution_count": 41,
     "metadata": {},
     "output_type": "execute_result"
    }
   ],
   "source": [
    "dyfi[-10:].get_addresses()"
   ]
  },
  {
   "cell_type": "code",
   "execution_count": 42,
   "metadata": {},
   "outputs": [
    {
     "data": {
      "text/plain": [
       "[(), (), (), (), (), (), (), (), (), ()]"
      ]
     },
     "execution_count": 42,
     "metadata": {},
     "output_type": "execute_result"
    }
   ],
   "source": [
    "dyfi[-10:].geocode('here')"
   ]
  },
  {
   "cell_type": "code",
   "execution_count": 43,
   "metadata": {},
   "outputs": [],
   "source": [
    "dyfi.set_locations_from_communes()"
   ]
  },
  {
   "cell_type": "code",
   "execution_count": 44,
   "metadata": {},
   "outputs": [
    {
     "data": {
      "text/plain": [
       "array([5.7309, 5.7168,    nan, 5.5009, 5.4863, 5.5893, 4.9086,    nan,\n",
       "          nan, 5.579 ])"
      ]
     },
     "execution_count": 44,
     "metadata": {},
     "output_type": "execute_result"
    }
   ],
   "source": [
    "dyfi[-10:].longitudes"
   ]
  },
  {
   "cell_type": "code",
   "execution_count": 45,
   "metadata": {},
   "outputs": [
    {
     "name": "stdout",
     "output_type": "stream",
     "text": [
      "[0L, 1539L, 516L, 3926L, 6L, 4104L, 3756L, 61450L, 4109L, 526L, 61456L, 1554L, 2068L, 4118L, 536L, 3097L, 4635L, 4127L, 3106L, 4136L, 41L, 1071L, 3678L, 4150L, 570L, 2143L, 4669L, 1604L, 585L, 4173L, 3150L, 269L, 184L, 1878L, 4181L, 3671L, 94L, 607L, 4194L, 443L, 3690L, 112L, 3188L, 1148L, 2176L, 3204L, 1157L, 135L, 1679L, 658L, 664L, 1220L, 1186L, 1307L, 2724L, 166L, 3239L, 1479L, 2732L, 3247L, 3765L, 62136L, 3264L, 3780L, 2763L, 1232L, 209L, 3799L, 225L, 4834L, 911L, 1254L, 3281L, 235L, 3823L, 3828L, 894L, 2295L, 1784L, 3833L, 4859L, 256L, 3329L, 1283L, 62220L, 3341L, 3855L, 10000L, 788L, 3716L, 3355L, 287L, 1824L, 3875L, 3366L, 808L, 3881L, 299L, 3888L, 4006L, 309L, 4920L, 3727L, 1853L, 10047L, 833L, 10053L, 3809L, 1354L, 844L, 3896L, 3412L, 342L, 858L, 3931L, 865L, 3943L, 3815L, 1388L, 3950L, 3901L, 3957L, 374L, 3966L, 292223L, 4991L, 292229L, 3975L, 292232L, 3983L, 3475L, 3988L, 2456L, 3995L, 4001L, 421L, 3494L, 5031L, 3867L, 938L, 4014L, 1919L, 4021L, 73L, 955L, 4028L, 3402L, 4035L, 929L, 4087L, 4045L, 2000L, 4050L, 471L, 1498L, 988L, 481L, 4068L, 997L, 1510L, 3921L, 10058L, 1010L, 3307L]\n"
     ]
    }
   ],
   "source": [
    "ensemble = dyfi.aggregate_by_commune('id_main')\n",
    "print(ensemble.keys())"
   ]
  },
  {
   "cell_type": "code",
   "execution_count": 52,
   "metadata": {},
   "outputs": [
    {
     "data": {
      "text/plain": [
       "110"
      ]
     },
     "execution_count": 52,
     "metadata": {},
     "output_type": "execute_result"
    }
   ],
   "source": [
    "import numpy as np\n",
    "len(dyfi.subselect_by_property('felt', ['']))"
   ]
  },
  {
   "cell_type": "code",
   "execution_count": 53,
   "metadata": {},
   "outputs": [],
   "source": [
    "dyfi.fix_felt_is_none()"
   ]
  },
  {
   "cell_type": "code",
   "execution_count": 54,
   "metadata": {},
   "outputs": [
    {
     "data": {
      "text/plain": [
       "0"
      ]
     },
     "execution_count": 54,
     "metadata": {},
     "output_type": "execute_result"
    }
   ],
   "source": [
    "len(dyfi.subselect_by_property('felt', ['']))"
   ]
  },
  {
   "cell_type": "code",
   "execution_count": 56,
   "metadata": {},
   "outputs": [
    {
     "name": "stdout",
     "output_type": "stream",
     "text": [
      "1630\n"
     ]
    }
   ],
   "source": [
    "filtered_dyfi = dyfi.filter_floors(max_level=2)\n",
    "print(filtered_dyfi.num_replies)"
   ]
  },
  {
   "cell_type": "code",
   "execution_count": 59,
   "metadata": {},
   "outputs": [
    {
     "name": "stdout",
     "output_type": "stream",
     "text": [
      "#36840: 15 != 14.5\n",
      "#37705: 15 != 14.5\n",
      "#38225: 12 != 11.5\n",
      "#38635: 14 != 13.5\n",
      "#38820: 11 != 10.5\n",
      "#39395: 13 != 12.5\n",
      "#39550: 13 != 12.5\n",
      "#39955: 11 != 10.5\n",
      "#40260: 15 != 14.5\n",
      "#41080: 14 != 11.0\n",
      "#41240: 11 != 10.5\n",
      "#41965: 10 != 9.5\n",
      "#42060: 12 != 11.5\n",
      "#42240: 16 != 18.0\n",
      "#43375: 15 != 14.5\n",
      "#44030: 40 != 39.5\n",
      "#45560: 34 != 36.0\n"
     ]
    },
    {
     "data": {
      "image/png": "[encoded data removed]",
      "text/plain": [
       "<matplotlib.figure.Figure at 0x974abe0>"
      ]
     },
     "metadata": {},
     "output_type": "display_data"
    },
    {
     "data": {
      "text/plain": [
       "<eqcatalog.macrorecord.MacroseismicEnquiryEnsemble instance at 0x00000000238CFA88>"
      ]
     },
     "execution_count": 59,
     "metadata": {},
     "output_type": "execute_result"
    }
   ],
   "source": [
    "dyfi.plot_analysis_comparison(include_other_felt=False, include_heavy_appliance=True)"
   ]
  },
  {
   "cell_type": "code",
   "execution_count": 69,
   "metadata": {},
   "outputs": [
    {
     "data": {
      "text/plain": [
       "(array([ 0.,  1.,  2.,  3.,  4., nan]),\n",
       " array([1363.,    2.,    6.,    0.,    3.,  317.]))"
      ]
     },
     "execution_count": 69,
     "metadata": {},
     "output_type": "execute_result"
    }
   ],
   "source": [
    "dyfi.bincount('heavy_appliance')"
   ]
  },
  {
   "cell_type": "code",
   "execution_count": 73,
   "metadata": {},
   "outputs": [
    {
     "data": {
      "image/png": "[encoded data removed]",
      "text/plain": [
       "<matplotlib.figure.Figure at 0x12516320>"
      ]
     },
     "metadata": {},
     "output_type": "display_data"
    }
   ],
   "source": [
    "dyfi.plot_pie('other_felt')"
   ]
  },
  {
   "cell_type": "code",
   "execution_count": 75,
   "metadata": {},
   "outputs": [
    {
     "name": "stdout",
     "output_type": "stream",
     "text": [
      "+-------+-------------+---------------------------------------------+\n",
      "| Value | Num records |                    Label                    |\n",
      "+-------+-------------+---------------------------------------------+\n",
      "|   0   |     748     | No answer / Don't know / Nobody else nearby |\n",
      "|   1   |     398     |              No others felt it              |\n",
      "|   2   |     308     |        Some felt it, but most did not       |\n",
      "|   3   |      83     |    Most others felt it, but some did not    |\n",
      "|   4   |     154     |     Everyone or almost everyone felt it     |\n",
      "+-------+-------------+---------------------------------------------+\n"
     ]
    }
   ],
   "source": [
    "dyfi.report_bincount('other_felt', include_labels=True)"
   ]
  },
  {
   "cell_type": "code",
   "execution_count": 76,
   "metadata": {},
   "outputs": [
    {
     "name": "stderr",
     "output_type": "stream",
     "text": [
      "E:\\Home\\_kris\\Python\\seismo\\eqcatalog\\macrorecord.py:1436: RuntimeWarning: divide by zero encountered in log\n",
      "  cii = 3.40 * np.log(cws) - 4.38\n"
     ]
    },
    {
     "name": "stdout",
     "output_type": "stream",
     "text": [
      "+----------------------------+--------+-------------+----------+----------------+\n",
      "|          Commune           |   ID   | Num replies | Mean CII | Aggregated CII |\n",
      "+----------------------------+--------+-------------+----------+----------------+\n",
      "|  AALST (OOST-VLAANDEREN)   |  1784  |      1      |   2.2    |      2.0       |\n",
      "|           ALKEN            |  4045  |      13     |   2.4    |      2.0       |\n",
      "|            AMAY            |  3097  |      1      |   1.0    |      1.0       |\n",
      "|          ANDENNE           |  4834  |      2      |   2.7    |      2.0       |\n",
      "|            ANS             |  3239  |      3      |   3.3    |      2.8       |\n",
      "|         ANTWERPEN          |   6    |      1      |   2.2    |      2.0       |\n",
      "|          ANZEGEM           |  1479  |      1      |   1.0    |      1.0       |\n",
      "|             AS             |  3809  |      28     |   2.2    |      2.2       |\n",
      "|            ASSE            |  536   |      1      |   2.7    |      2.0       |\n",
      "|         AUDERGHEM          |  443   |      2      |   1.0    |      1.0       |\n",
      "|           AWANS            |  3247  |      6      |   2.8    |      2.5       |\n",
      "|           BAELEN           |  3475  |      1      |   3.8    |      2.6       |\n",
      "|           BALEN            |  287   |      3      |   2.8    |      2.2       |\n",
      "|          BASSENGE          |  3264  |      6      |   2.8    |      2.1       |\n",
      "|         BEAURAING          |  4635  |      1      |   1.0    |      1.0       |\n",
      "|        BEGIJNENDIJK        |  788   |      1      |   1.0    |      1.0       |\n",
      "|          BERGEIJK          | 292232 |      1      |   2.2    |      2.0       |\n",
      "|          BERINGEN          |  3815  |      10     |   1.3    |      2.0       |\n",
      "|          BERLAAR           |  184   |      1      |   1.0    |      1.0       |\n",
      "|           BERLOZ           |  3671  |      3      |   2.5    |      2.0       |\n",
      "|        BEVEREN-WAAS        |  2295  |      1      |   3.8    |      2.6       |\n",
      "|          BIERBEEK          |  808   |      2      |   1.0    |      1.0       |\n",
      "|           BILZEN           |  4050  |     106     |   2.7    |      2.2       |\n",
      "|          BOCHOLT           |  3950  |      45     |   2.8    |      2.7       |\n",
      "|          BORGLOON          |  4068  |      17     |   2.5    |      2.4       |\n",
      "|      BRAINE-LE-COMTE       |  2732  |      1      |   1.0    |      1.0       |\n",
      "|          BRAIVES           |  3678  |      4      |   1.5    |      2.0       |\n",
      "|         BRASSCHAAT         |   41   |      1      |   1.0    |      1.0       |\n",
      "|            BREE            |  3957  |      59     |   2.5    |      2.0       |\n",
      "|           BRUGGE           |  1283  |      1      |   1.0    |      1.0       |\n",
      "|          BRUNSSUM          | 292223 |      1      |   2.2    |      2.0       |\n",
      "|          BURDINNE          |  3106  |      2      |   2.8    |      2.3       |\n",
      "|         CHARLEROI          |  2456  |      1      |   1.0    |      1.0       |\n",
      "|       CHAUDFONTAINE        |  3281  |      1      |   1.0    |      1.0       |\n",
      "|           CINEY            |  4669  |      1      |   2.7    |      2.0       |\n",
      "|    COURT-SAINT-ETIENNE     |  1071  |      2      |   2.2    |      2.0       |\n",
      "|          CRISNEE           |  3690  |      6      |   3.3    |      2.9       |\n",
      "|          DEERLIJK          |  1498  |      1      |   2.2    |      2.0       |\n",
      "|        DENDERMONDE         |  1919  |      1      |   9.1    |      1.0       |\n",
      "|         DENTERGEM          |  1679  |      1      |   1.0    |      1.0       |\n",
      "|           DESSEL           |  299   |      1      |   1.0    |      2.0       |\n",
      "|         DIEPENBEEK         |  3823  |      8      |   2.1    |      2.0       |\n",
      "|           DIEST            |  833   |      3      |   1.4    |      2.0       |\n",
      "|         DIKSMUIDE          |  1354  |      1      |   2.2    |      2.0       |\n",
      "|           DILSEN           |  3966  |      23     |   2.2    |      2.0       |\n",
      "|           DISON            |  3494  |      1      |   2.2    |      2.0       |\n",
      "|          EGHEZEE           |  4859  |      2      |   3.0    |      2.1       |\n",
      "|          EIJSDEN           | 62220  |      1      |   3.4    |      2.9       |\n",
      "|           ESNEUX           |  3307  |      1      |   2.2    |      2.0       |\n",
      "|           FAIMES           |  3799  |      4      |   3.2    |      2.5       |\n",
      "|         FERNELMONT         |  4991  |      1      |   2.2    |      2.0       |\n",
      "|           FOREST           |  471   |      1      |   2.2    |      2.0       |\n",
      "|         GALMAARDEN         |  570   |      1      |   1.0    |      1.0       |\n",
      "|            GEER            |  3716  |      6      |   2.5    |      2.4       |\n",
      "|          GEETBETS          |  844   |      1      |   1.0    |      1.0       |\n",
      "|          GEMBLOUX          |  5031  |      1      |   1.0    |      1.0       |\n",
      "|            GENK            |  3828  |      48     |   2.6    |      2.0       |\n",
      "|            GENT            |  2068  |      3      |   1.3    |      1.0       |\n",
      "|          GINGELOM          |  3833  |      5      |   2.6    |      2.1       |\n",
      "|       GRACE-HOLLOGNE       |  3412  |      1      |   3.4    |      2.9       |\n",
      "|         GRIMBERGEN         |  585   |      1      |   1.0    |      1.0       |\n",
      "|        GROBBENDONK         |  309   |      2      |   1.6    |      2.0       |\n",
      "|          HAALTERT          |  1824  |      1      |   1.0    |      1.0       |\n",
      "|        HAMONT-ACHEL        |  4014  |      22     |   2.4    |      2.0       |\n",
      "|           HANNUT           |  3727  |      4      |   2.2    |      2.0       |\n",
      "|          HASSELT           |  3855  |      21     |   2.2    |      3.2       |\n",
      "|       HECHTEL-EKSEL        |  4021  |      6      |   3.0    |      2.6       |\n",
      "|          HEERLEN           | 10058  |      1      |   1.0    |      1.0       |\n",
      "|           HEERS            |  4087  |      22     |   2.8    |      2.3       |\n",
      "|     HEIST-OP-DEN-BERG      |  209   |      1      |   2.7    |      2.0       |\n",
      "|           HERENT           |  858   |      1      |   2.2    |      2.0       |\n",
      "|        HERK-DE-STAD        |  3867  |      1      |   1.0    |      1.0       |\n",
      "|         HERSTAPPE          |  4104  |      1      |   2.2    |      2.0       |\n",
      "|       HEUSDEN-ZOLDER       |  3943  |      7      |   1.2    |      2.0       |\n",
      "|         HOEGAARDEN         |  865   |      2      |   1.8    |      2.0       |\n",
      "|         HOEILAART          |  607   |      1      |   2.0    |      2.0       |\n",
      "|          HOESELT           |  4109  |      58     |   2.9    |      2.5       |\n",
      "|    HOUTHALEN-HELCHTEREN    |  4028  |      11     |   1.8    |      2.0       |\n",
      "|          HULSHOUT          |  342   |      1      |   1.0    |      1.0       |\n",
      "|            HUY             |  3150  |      1      |   1.0    |      1.0       |\n",
      "|          IXELLES           |  481   |      1      |   1.0    |      1.0       |\n",
      "|          JABBEKE           |  1307  |      2      |   1.6    |      2.0       |\n",
      "|          JUPRELLE          |  3329  |      3      |   3.7    |      3.2       |\n",
      "|         KALMTHOUT          |   73   |      1      |   1.0    |      1.0       |\n",
      "|          KINROOI           |  3975  |      47     |   2.4    |      2.2       |\n",
      "|         KORTEMARK          |  1388  |      1      |   1.0    |      1.0       |\n",
      "|         KORTENAKEN         |  894   |      1      |   2.7    |      2.0       |\n",
      "|         KORTESSEM          |  4118  |      16     |   2.5    |      2.0       |\n",
      "|          KORTRIJK          |  1510  |      2      |   3.0    |      2.1       |\n",
      "|          LANAKEN           |  4127  |      55     |   2.2    |      2.0       |\n",
      "|           LANDEN           |  911   |      4      |   2.1    |      2.1       |\n",
      "|        LEOPOLDSBURG        |  3875  |      7      |   1.6    |      2.0       |\n",
      "|          LESSINES          |  2763  |      1      |   1.0    |      1.0       |\n",
      "|           LEUVEN           |  929   |      5      |   1.2    |      2.0       |\n",
      "|           LIEGE            |  3341  |      4      |   1.7    |      2.0       |\n",
      "|           LINTER           |  997   |      1      |   2.2    |      2.0       |\n",
      "|           LOMMEL           |  3983  |      18     |   2.2    |      2.1       |\n",
      "|          LUBBEEK           |  938   |      2      |   1.0    |      1.0       |\n",
      "|           LUMMEN           |  3881  |      3      |   1.3    |      1.0       |\n",
      "|          MAASEIK           |  3988  |     119     |   2.8    |      2.5       |\n",
      "|        MAASMECHELEN        |  4181  |      29     |   2.4    |      2.0       |\n",
      "|         MAASTRICHT         | 10000  |      4      |   2.8    |      2.2       |\n",
      "|          MECHELEN          |  225   |      1      |   3.4    |      2.9       |\n",
      "|     MEEUWEN-GRUITRODE      |  4035  |      36     |   2.7    |      2.2       |\n",
      "|            MOL             |  374   |      2      |   3.3    |      2.9       |\n",
      "|          MORTSEL           |   94   |      1      |   2.7    |      2.0       |\n",
      "|          MOUSCRON          |  2724  |      1      |   1.0    |      1.0       |\n",
      "|           NAMUR            |  4920  |      1      |   2.2    |      2.0       |\n",
      "|          NEERPELT          |  3995  |      37     |   2.6    |      2.2       |\n",
      "|  NIEUWERKERKEN (LIMBURG)   |  3888  |      1      |   1.0    |      1.0       |\n",
      "|           NIJLEN           |  235   |      2      |   1.5    |      2.0       |\n",
      "|           NINOVE           |  1853  |      1      |   1.0    |      1.0       |\n",
      "|            NUTH            | 10053  |      1      |   3.1    |      2.5       |\n",
      "|          OOSTENDE          |  1604  |      2      |   2.7    |      2.0       |\n",
      "|         OOSTERZELE         |  2143  |      1      |   1.0    |      1.0       |\n",
      "|         OPGLABBEEK         |  3896  |      40     |   2.7    |      2.3       |\n",
      "|           OPWIJK           |  658   |      2      |   1.0    |      1.0       |\n",
      "|           OREYE            |  3756  |      13     |   2.8    |      2.2       |\n",
      "|         ORP-JAUCHE         |  1220  |      1      |   1.0    |      1.0       |\n",
      "| OTTIGNIES-LOUVAIN-LA-NEUVE |  1232  |      1      |   2.0    |      2.0       |\n",
      "|           OUPEYE           |  3355  |      2      |   3.1    |      2.5       |\n",
      "|          OVERIJSE          |  664   |      1      |   2.2    |      2.2       |\n",
      "|          OVERPELT          |  4001  |      9      |   2.6    |      2.3       |\n",
      "|            PEER            |  4006  |      9      |   1.5    |      2.0       |\n",
      "|           PERWEZ           |  1148  |      1      |   1.0    |      1.0       |\n",
      "|           REBECQ           |  1254  |      1      |   2.2    |      2.0       |\n",
      "|         REMICOURT          |  3765  |      6      |   3.0    |      2.6       |\n",
      "|           RIEMST           |  4136  |      79     |   2.9    |      2.6       |\n",
      "|         RIXENSART          |  1157  |      2      |   2.2    |      2.0       |\n",
      "|         ROERDALEN          | 61456  |      1      |   2.7    |      2.0       |\n",
      "|         ROTSELAAR          |  955   |      1      |   2.7    |      2.0       |\n",
      "|           RUMST            |  112   |      1      |   2.0    |      2.0       |\n",
      "|       SAINT-NICOLAS        |  3366  |      1      |   2.2    |      2.2       |\n",
      "|   SCHERPENHEUVEL-ZICHEM    |  1010  |      1      |   3.1    |      2.5       |\n",
      "|          SCHINNEN          | 292229 |      1      |   2.2    |      2.0       |\n",
      "|        SINT-AMANDS         |  256   |      1      |   1.0    |      2.0       |\n",
      "|       SINT-LAUREINS        |  2000  |      1      |   1.0    |      1.0       |\n",
      "|        SINT-TRUIDEN        |  3901  |      23     |   2.3    |      2.0       |\n",
      "|          STABROEK          |  135   |      1      |   4.1    |      4.1       |\n",
      "|        TESSENDERLO         |  3921  |      7      |   1.4    |      2.0       |\n",
      "|          TONGEREN          |  4150  |     158     |   3.0    |      2.7       |\n",
      "|           UCCLE            |  516   |      4      |   3.1    |      4.7       |\n",
      "|          UNKNOWN           |   0    |     237     |   2.4    |      2.0       |\n",
      "|   VALKENBURG AAN DE GEUL   | 61450  |      1      |   2.7    |      2.0       |\n",
      "|        VALKENSWAARD        | 62136  |      1      |   1.0    |      1.0       |\n",
      "|          VERLAINE          |  3188  |      2      |   3.3    |      2.7       |\n",
      "|            VISE            |  3402  |      3      |   3.4    |      3.1       |\n",
      "|           VOEREN           |  4194  |      1      |   4.3    |      4.0       |\n",
      "|           WANZE            |  3204  |      1      |   2.7    |      2.0       |\n",
      "|          WAREGEM           |  1539  |      1      |   1.0    |      1.0       |\n",
      "|          WAREMME           |  3780  |      10     |   2.6    |      2.3       |\n",
      "|           WAVRE            |  1186  |      2      |   2.0    |      2.0       |\n",
      "|           WEERT            | 10047  |      2      |   1.0    |      1.0       |\n",
      "|           WELLEN           |  4173  |      4      |   2.7    |      2.0       |\n",
      "|          WESTERLO          |  421   |      1      |   1.0    |      2.0       |\n",
      "|         WILLEBROEK         |  269   |      1      |   2.7    |      2.0       |\n",
      "|    WOLUWE-SAINT-LAMBERT    |  526   |      1      |   1.0    |      1.0       |\n",
      "|          ZOERSEL           |  166   |      1      |   4.1    |      3.6       |\n",
      "|          ZONHOVEN          |  3926  |      8      |   2.9    |      3.0       |\n",
      "|          ZOTTEGEM          |  1878  |      1      |   1.0    |      1.0       |\n",
      "|         ZOUTLEEUW          |  988   |      1      |   2.2    |      2.0       |\n",
      "|           ZULTE            |  2176  |      1      |   1.0    |      1.0       |\n",
      "|         ZUTENDAAL          |  3931  |      11     |   2.0    |      2.0       |\n",
      "|          ZWEVEGEM          |  1554  |      1      |   1.0    |      1.0       |\n",
      "+----------------------------+--------+-------------+----------+----------------+\n"
     ]
    },
    {
     "name": "stderr",
     "output_type": "stream",
     "text": [
      "C:\\Anaconda\\lib\\site-packages\\numpy\\ma\\core.py:5155: RuntimeWarning: Mean of empty slice.\n",
      "  dtype=dtype, **kwargs)[()]\n",
      "C:\\Anaconda\\lib\\site-packages\\numpy\\core\\_methods.py:73: RuntimeWarning: invalid value encountered in true_divide\n",
      "  ret, rcount, out=ret, casting='unsafe', subok=False)\n",
      "E:\\Home\\_kris\\Python\\seismo\\eqcatalog\\macrorecord.py:1366: RuntimeWarning: Mean of empty slice.\n",
      "  damage_index = ensemble.calc_damage_index().mean()\n",
      "C:\\Anaconda\\lib\\site-packages\\numpy\\core\\_methods.py:80: RuntimeWarning: invalid value encountered in double_scalars\n",
      "  ret = ret.dtype.type(ret / rcount)\n"
     ]
    }
   ],
   "source": [
    "dyfi.report_by_commune('id_main')"
   ]
  },
  {
   "cell_type": "code",
   "execution_count": 80,
   "metadata": {},
   "outputs": [
    {
     "name": "stdout",
     "output_type": "stream",
     "text": [
      "felt:\n",
      "  Values: [1 1 0 1 1 1 1 1 1 1]\n",
      "  Felt index (without other_felt) [x5]: 4.5\n",
      "other_felt:\n",
      "  Values: [2 2 0 2 2 2 0 0 4 0]\n",
      "  Felt index (incl. other_felt) [x5]: 3.38\n",
      "motion:\n",
      "  Values: [2 2 -- 2 1 2 1 1 1 2]\n",
      "  Motion index [x1]: 1.5555555555555556\n",
      "reaction:\n",
      "  Values: [3 -- -- 1 3 2 1 3 1 3]\n",
      "  Reaction index [x1]: 2.125\n",
      "stand:\n",
      "  Values: [0 -- -- 0 0 0 0 -- 0 0]\n",
      "  Stand index [x2]: 0.0\n",
      "shelf:\n",
      "  Values: [1 -- -- 1 0 0 0 1 0 --]\n",
      "  Shelf index [x5]: 0.0\n",
      "picture:\n",
      "  Values: [0 -- -- 0 0 0 0 -- 0 --]\n",
      "  Picture index [x2]: 0.0\n",
      "furniture:\n",
      "  Values: [0 -- -- 0 0 0 0 -- 0 0]\n",
      "  Furniture index [x3]: 0.0\n",
      "  Furniture index (incl. heavy_appliance) [x3]: 0.0\n",
      "damage:\n",
      "  Values: [u'*-------------', u'*-------------', u'*-------------', u'*-------------', u'*-------------', u'*-------------', u'*-------------', u'*-------------', u'*-------------', u'*-------------']\n",
      "  Damage index [x5]: 0.0\n",
      "CWS:\n",
      "  Database: 7.6\n",
      "  Recomputed: 7.060555555555555\n"
     ]
    }
   ],
   "source": [
    "dyfi[-10:].evaluate_cws_calculation(aggregate=True)"
   ]
  },
  {
   "cell_type": "code",
   "execution_count": 81,
   "metadata": {},
   "outputs": [
    {
     "name": "stdout",
     "output_type": "stream",
     "text": [
      "Duplicate streets:\n",
      "  3700 [CII=1.0, fiab=90] Ilse Simenon - Necropolisstraat 7 Tongeren\n",
      "  3700 [CII=3.44879, fiab=90] Ilse Simenon - Necropolisstraat 7 Tongeren\n",
      "\n",
      "  3950 [CII=1.0, fiab=90] Tom Adriaensen - Reppelerweg 34\n",
      "  3950 [CII=1.0, fiab=90] Tom Adriaensen - Reppelerweg 34\n",
      "\n",
      "  3770 [CII=2.6901, fiab=90] Jonah Fastr? - Dorpsstraat 75\n",
      "  3770 [CII=2.6901, fiab=90] Jonah Fastr? - Dorpsstraat 75\n",
      "\n",
      "  3570 [CII=2.6901, fiab=90] Frederix Nicole - ZEVENBOOMKENSSTRAAT 2 bus 11\n",
      "  3570 [CII=2.6901, fiab=90] Frederix Nicole - ZEVENBOOMKENSSTRAAT 2 bus 11\n",
      "\n",
      "  3700 [CII=2.0, fiab=90] Digneffe - A.meesenlaan 10\n",
      "  3700 [CII=2.0, fiab=90] Digneffe - A.meesenlaan 10\n",
      "\n",
      "  4260 [CII=1.0, fiab=90] Dehout - rue de l'O N U, 3\n",
      "  4260 [CII=1.0, fiab=90] Dehout - rue de l'O N U, 3\n",
      "\n",
      "  3800 [CII=2.0, fiab=90] Royen Nele - Barettestraat 4\n",
      "  3800 [CII=2.0, fiab=90] Royen Nele - Barettestraat 4\n",
      "\n",
      "  3680 [CII=2.6901, fiab=90] Schepers Werner - Venlosesteenweg 71\n",
      "  3680 [CII=2.6901, fiab=90] Timo Schepers - Venlosesteenweg 71\n",
      "\n",
      "  3670 [CII=2.6901, fiab=90] Emmy Appermont - Gestelstraat 18\n",
      "  3670 [CII=2.6901, fiab=90] Emmy Appermont - Gestelstraat 18\n",
      "\n",
      "  1490 [CII=2.23609, fiab=90] Dufour - Rue de l?eglise De Sart, 1490, Court-saint-etienne\n",
      "  1490 [CII=2.23609, fiab=90] Dufour - Rue de l?eglise De Sart, 1490, Court-saint-etienne\n",
      "\n",
      "  3680 [CII=3.44879, fiab=80] None - Eerste straat 26, 3680 Maaseik\n",
      "  3680 [CII=3.44879, fiab=80] None - Eerste straat 26, 3680 Maaseik\n",
      "  3680 [CII=3.44879, fiab=80] None - Eerste straat 26, 3680 Maaseik\n",
      "\n",
      "  4537 [CII=1.0, fiab=90] Joachim bamps - Voie du Jointy,5\n",
      "  4537 [CII=3.09056, fiab=90] Joachim bamps - Voie du Jointy,5\n",
      "\n",
      "  3700 [CII=3.44879, fiab=90] Christel Moens - Hemelingenstraat 53\n",
      "  3700 [CII=3.44879, fiab=90] Christel Moens - Hemelingenstraat 53\n",
      "\n",
      "  3950 [CII=4.34083, fiab=90] jos bergmans - ketellappersstraat 68\n",
      "  3950 [CII=4.34083, fiab=90] jos bergmans - ketellappersstraat 68\n",
      "\n",
      "  3640 [CII=1.0, fiab=90] Jean-Pierre Paredis - Weertersteenweg  141\n",
      "  3640 [CII=1.0, fiab=90] Jean-Pierre Paredis - Weertersteenweg  141\n",
      "\n",
      "  1160 [CII=1.0, fiab=90] Lecocq Lecocq - All?e des colzas 51\n",
      "  1160 [CII=1.0, fiab=90] Lecocq Lecocq - All?e des colzas 51\n",
      "\n",
      "  3740 [CII=2.23609, fiab=90] Brigitte Martens - Mooi Uitzichtlaan 37\n",
      "  3740 [CII=2.23609, fiab=90] Brigitte Martens - Mooi Uitzichtlaan 37\n",
      "\n",
      "  3700 [CII=2.6901, fiab=90] Humblet Jean - VERHENIS 59 3700 Tongeren\n",
      "  3700 [CII=2.6901, fiab=90] Humblet Jean - VERHENIS 59 3700 Tongeren\n",
      "\n",
      "  3620 [CII=2.6901, fiab=90] De Landtsheer G - Heirstraat 527 Maasmechelen\n",
      "  3620 [CII=2.6901, fiab=90] De Landtsheer G - Heirstraat 527 Maasmechelen\n",
      "\n",
      "  3621 [CII=1.0, fiab=90] Johan Switten - Heirbaan 381 - 3621 Rekem-Lanaken\n",
      "  3621 [CII=1.0, fiab=90] Johan Switten - Heirbaan 381 - 3621 Rekem-Lanaken\n",
      "\n",
      "  3680 [CII=2.23609, fiab=90] Steven Fraussen - Begijnenstraat 10\n",
      "  3680 [CII=2.23609, fiab=90] Kris. Bleukx - Begijnenstraat 10\n",
      "\n",
      "  3640 [CII=3.44879, fiab=80] angela theunissen - weertersteenweg 1\n",
      "  3640 [CII=2.23609, fiab=80] angela theunissen - weertersteenweg 1\n",
      "\n",
      "  3670 [CII=1.0, fiab=90] Goedele Schreurs - Eekhoornstraat 1\n",
      "  3670 [CII=1.0, fiab=90] Goedele Schreurs - Eekhoornstraat 1\n",
      "\n"
     ]
    },
    {
     "data": {
      "text/plain": [
       "[[135, 148],\n",
       " [201, 202],\n",
       " [232, 236],\n",
       " [235, 250],\n",
       " [327, 328],\n",
       " [359, 382],\n",
       " [406, 407],\n",
       " [427, 784],\n",
       " [493, 496],\n",
       " [693, 694],\n",
       " [736, 737, 738],\n",
       " [793, 825],\n",
       " [940, 941],\n",
       " [949, 951],\n",
       " [963, 966],\n",
       " [975, 1597],\n",
       " [1099, 1163],\n",
       " [1150, 1151],\n",
       " [1192, 1194],\n",
       " [1475, 1476],\n",
       " [1509, 1510],\n",
       " [1514, 1517],\n",
       " [1550, 1551]]"
      ]
     },
     "execution_count": 81,
     "metadata": {},
     "output_type": "execute_result"
    }
   ],
   "source": [
    "dyfi.find_duplicate_addresses()"
   ]
  },
  {
   "cell_type": "code",
   "execution_count": 82,
   "metadata": {},
   "outputs": [
    {
     "data": {
      "image/png": "[encoded data removed]",
      "text/plain": [
       "<matplotlib.figure.Figure at 0x12e4ccc0>"
      ]
     },
     "metadata": {},
     "output_type": "display_data"
    }
   ],
   "source": [
    "dyfi.plot_cumulative_responses_vs_time()"
   ]
  },
  {
   "cell_type": "code",
   "execution_count": 84,
   "metadata": {},
   "outputs": [
    {
     "data": {
      "text/plain": [
       "0"
      ]
     },
     "execution_count": 84,
     "metadata": {},
     "output_type": "execute_result"
    }
   ],
   "source": [
    "len(dyfi.get_inconsistent_damage_records())"
   ]
  },
  {
   "cell_type": "code",
   "execution_count": 85,
   "metadata": {},
   "outputs": [],
   "source": [
    "eqcatalog.plot.plot_web_macroseismic_map?"
   ]
  }
 ],
 "metadata": {
  "kernelspec": {
   "display_name": "Python 2",
   "language": "python",
   "name": "python2"
  },
  "language_info": {
   "codemirror_mode": {
    "name": "ipython",
    "version": 2
   },
   "file_extension": ".py",
   "mimetype": "text/x-python",
   "name": "python",
   "nbconvert_exporter": "python",
   "pygments_lexer": "ipython2",
   "version": "2.7.15"
  }
 },
 "nbformat": 4,
 "nbformat_minor": 2
}
