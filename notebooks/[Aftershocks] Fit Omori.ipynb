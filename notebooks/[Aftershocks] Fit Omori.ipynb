{
 "cells": [
  {
   "cell_type": "code",
   "execution_count": 1,
   "metadata": {},
   "outputs": [],
   "source": [
    "%matplotlib inline"
   ]
  },
  {
   "cell_type": "code",
   "execution_count": 2,
   "metadata": {},
   "outputs": [],
   "source": [
    "import datetime\n",
    "import numpy as np\n",
    "import pylab\n",
    "import eqcatalog\n",
    "import eqcatalog.omori as omori\n",
    "from ipy_render_html import render_html"
   ]
  },
  {
   "cell_type": "code",
   "execution_count": 70,
   "metadata": {},
   "outputs": [
    {
     "data": {
      "text/plain": [
       "<module 'eqcatalog.omori' from 'E:\\Home\\_kris\\Python\\seismo\\eqcatalog\\omori.py'>"
      ]
     },
     "execution_count": 70,
     "metadata": {},
     "output_type": "execute_result"
    }
   ],
   "source": [
    "reload(eqcatalog)\n",
    "reload(omori)"
   ]
  },
  {
   "cell_type": "code",
   "execution_count": 3,
   "metadata": {},
   "outputs": [],
   "source": [
    "cat = eqcatalog.rob.query_local_eq_catalog(start_date=1992, end_date=1992)"
   ]
  },
  {
   "cell_type": "code",
   "execution_count": 5,
   "metadata": {},
   "outputs": [],
   "source": [
    "dc_method = eqcatalog.declustering.ClusterMethod()\n",
    "#dc_window = eqcatalog.declustering.Gruenthal2009Window()\n",
    "dc_window = eqcatalog.declustering.GardnerKnopoff1974Window()\n",
    "Mrelation = {'ML': 'Ahorner1983'}"
   ]
  },
  {
   "cell_type": "code",
   "execution_count": 6,
   "metadata": {},
   "outputs": [],
   "source": [
    "mainshock = cat.get_event_by_id(987)"
   ]
  },
  {
   "cell_type": "code",
   "execution_count": 7,
   "metadata": {},
   "outputs": [
    {
     "data": {
      "image/png": "[encoded data removed]",
      "text/plain": [
       "<matplotlib.figure.Figure at 0xff4c240>"
      ]
     },
     "metadata": {},
     "output_type": "display_data"
    }
   ],
   "source": [
    "aftershocks = dc_method.get_aftershocks(mainshock, cat, dc_window, Mrelation)\n",
    "aftershocks.plot_map()"
   ]
  },
  {
   "cell_type": "code",
   "execution_count": 8,
   "metadata": {},
   "outputs": [
    {
     "name": "stdout",
     "output_type": "stream",
     "text": [
      "+-------------------+-------------------------+\n",
      "|     Parameter     |          Value          |\n",
      "+-------------------+-------------------------+\n",
      "|    Catalog name   |                         |\n",
      "| Earthquake number |            56           |\n",
      "|     Start time    | 1992-04-13T01:22:53.000 |\n",
      "|      End time     | 1992-11-04T03:56:01.000 |\n",
      "|  Longitude bounds |     5.8688 / 6.2603     |\n",
      "|  Latitude bounds  |    50.8100 / 51.2000    |\n",
      "|    Depth range    |      8.0 / 24.0 km      |\n",
      "|         ML        |  n=56, min=1.2, max=3.9 |\n",
      "|    Event types    |        ke (n=56)        |\n",
      "+-------------------+-------------------------+\n"
     ]
    },
    {
     "data": {
      "text/plain": [
       "<prettytable.prettytable.PrettyTable at 0x1069f470>"
      ]
     },
     "execution_count": 8,
     "metadata": {},
     "output_type": "execute_result"
    }
   ],
   "source": [
    "aftershocks.print_info()"
   ]
  },
  {
   "cell_type": "code",
   "execution_count": 9,
   "metadata": {},
   "outputs": [
    {
     "data": {
      "text/html": [
       "<table>\n",
       "    <tr>\n",
       "        <th>ID</th>\n",
       "        <th>Date</th>\n",
       "        <th>Time</th>\n",
       "        <th>Name</th>\n",
       "        <th>Lon</th>\n",
       "        <th>Lat</th>\n",
       "        <th>Z</th>\n",
       "        <th>ML</th>\n",
       "    </tr>\n",
       "    <tr>\n",
       "        <td>3596</td>\n",
       "        <td>1992-04-13</td>\n",
       "        <td>01:22:53</td>\n",
       "        <td>UETTERATH (DE)</td>\n",
       "        <td>6.138</td>\n",
       "        <td>51.019</td>\n",
       "        <td>24.0</td>\n",
       "        <td>3.9</td>\n",
       "    </tr>\n",
       "    <tr>\n",
       "        <td>988</td>\n",
       "        <td>1992-04-13</td>\n",
       "        <td>01:31:08</td>\n",
       "        <td>ROERMOND (NL)</td>\n",
       "        <td>5.927</td>\n",
       "        <td>51.163</td>\n",
       "        <td>15.6</td>\n",
       "        <td>2.1</td>\n",
       "    </tr>\n",
       "    <tr>\n",
       "        <td>989</td>\n",
       "        <td>1992-04-13</td>\n",
       "        <td>01:33:32</td>\n",
       "        <td>ROERMOND (NL)</td>\n",
       "        <td>5.921</td>\n",
       "        <td>51.151</td>\n",
       "        <td>15.7</td>\n",
       "        <td>2.5</td>\n",
       "    </tr>\n",
       "    <tr>\n",
       "        <td>990</td>\n",
       "        <td>1992-04-13</td>\n",
       "        <td>01:46:03</td>\n",
       "        <td>ROERMOND(N)</td>\n",
       "        <td>5.972</td>\n",
       "        <td>51.143</td>\n",
       "        <td>17.6</td>\n",
       "        <td>1.9</td>\n",
       "    </tr>\n",
       "    <tr>\n",
       "        <td>991</td>\n",
       "        <td>1992-04-13</td>\n",
       "        <td>01:53:30</td>\n",
       "        <td>ROERMOND(N)</td>\n",
       "        <td>5.937</td>\n",
       "        <td>51.180</td>\n",
       "        <td>14.6</td>\n",
       "        <td>1.7</td>\n",
       "    </tr>\n",
       "    <tr>\n",
       "        <td>992</td>\n",
       "        <td>1992-04-13</td>\n",
       "        <td>02:02:24</td>\n",
       "        <td>ROERMOND(N)</td>\n",
       "        <td>5.938</td>\n",
       "        <td>51.151</td>\n",
       "        <td>15.2</td>\n",
       "        <td>2.0</td>\n",
       "    </tr>\n",
       "    <tr>\n",
       "        <td>993</td>\n",
       "        <td>1992-04-13</td>\n",
       "        <td>02:04:31</td>\n",
       "        <td>ROERMOND(N)</td>\n",
       "        <td>5.923</td>\n",
       "        <td>51.120</td>\n",
       "        <td>18.3</td>\n",
       "        <td>1.8</td>\n",
       "    </tr>\n",
       "    <tr>\n",
       "        <td>994</td>\n",
       "        <td>1992-04-13</td>\n",
       "        <td>02:05:07</td>\n",
       "        <td>MONTFORT(N)</td>\n",
       "        <td>5.981</td>\n",
       "        <td>51.082</td>\n",
       "        <td>17.8</td>\n",
       "        <td>2.2</td>\n",
       "    </tr>\n",
       "    <tr>\n",
       "        <td>995</td>\n",
       "        <td>1992-04-13</td>\n",
       "        <td>02:08:20</td>\n",
       "        <td>ROERMOND(N)</td>\n",
       "        <td>5.937</td>\n",
       "        <td>51.154</td>\n",
       "        <td>15.0</td>\n",
       "        <td>2.4</td>\n",
       "    </tr>\n",
       "    <tr>\n",
       "        <td>996</td>\n",
       "        <td>1992-04-13</td>\n",
       "        <td>02:30:40</td>\n",
       "        <td>ROERMOND(N)</td>\n",
       "        <td>5.946</td>\n",
       "        <td>51.154</td>\n",
       "        <td>14.8</td>\n",
       "        <td>2.0</td>\n",
       "    </tr>\n",
       "    <tr>\n",
       "        <td>997</td>\n",
       "        <td>1992-04-13</td>\n",
       "        <td>03:03:26</td>\n",
       "        <td>6 KM W ROERMOND(N)</td>\n",
       "        <td>5.928</td>\n",
       "        <td>51.176</td>\n",
       "        <td>12.5</td>\n",
       "        <td>2.5</td>\n",
       "    </tr>\n",
       "    <tr>\n",
       "        <td>998</td>\n",
       "        <td>1992-04-13</td>\n",
       "        <td>03:17:49</td>\n",
       "        <td>BAEXEM(N)</td>\n",
       "        <td>5.869</td>\n",
       "        <td>51.178</td>\n",
       "        <td>18.4</td>\n",
       "        <td>2.2</td>\n",
       "    </tr>\n",
       "    <tr>\n",
       "        <td>999</td>\n",
       "        <td>1992-04-13</td>\n",
       "        <td>03:33:45</td>\n",
       "        <td>ROERMOND(N)</td>\n",
       "        <td>5.985</td>\n",
       "        <td>51.140</td>\n",
       "        <td>14.9</td>\n",
       "        <td>1.7</td>\n",
       "    </tr>\n",
       "    <tr>\n",
       "        <td>1000</td>\n",
       "        <td>1992-04-13</td>\n",
       "        <td>03:41:27</td>\n",
       "        <td>ROERMOND(N)</td>\n",
       "        <td>5.965</td>\n",
       "        <td>51.141</td>\n",
       "        <td>14.9</td>\n",
       "        <td>2.4</td>\n",
       "    </tr>\n",
       "    <tr>\n",
       "        <td>1001</td>\n",
       "        <td>1992-04-13</td>\n",
       "        <td>03:49:42</td>\n",
       "        <td>ROERMOND(N)</td>\n",
       "        <td>5.966</td>\n",
       "        <td>51.148</td>\n",
       "        <td>14.9</td>\n",
       "        <td>3.4</td>\n",
       "    </tr>\n",
       "    <tr>\n",
       "        <td>1002</td>\n",
       "        <td>1992-04-13</td>\n",
       "        <td>04:00:07</td>\n",
       "        <td>GRATHEM(N)</td>\n",
       "        <td>5.919</td>\n",
       "        <td>51.155</td>\n",
       "        <td>15.2</td>\n",
       "        <td>2.0</td>\n",
       "    </tr>\n",
       "    <tr>\n",
       "        <td>1003</td>\n",
       "        <td>1992-04-13</td>\n",
       "        <td>04:22:43</td>\n",
       "        <td>MELCK EN HERKENBOSCH(N)</td>\n",
       "        <td>5.969</td>\n",
       "        <td>51.135</td>\n",
       "        <td>15.5</td>\n",
       "        <td>2.2</td>\n",
       "    </tr>\n",
       "    <tr>\n",
       "        <td>1004</td>\n",
       "        <td>1992-04-13</td>\n",
       "        <td>04:32:47</td>\n",
       "        <td>HOENGEN(D)</td>\n",
       "        <td>6.260</td>\n",
       "        <td>50.849</td>\n",
       "        <td>15.2</td>\n",
       "        <td>2.5</td>\n",
       "    </tr>\n",
       "    <tr>\n",
       "        <td>1005</td>\n",
       "        <td>1992-04-13</td>\n",
       "        <td>04:37:45</td>\n",
       "        <td>HAAREN(N)</td>\n",
       "        <td>6.027</td>\n",
       "        <td>51.058</td>\n",
       "        <td>15.2</td>\n",
       "        <td>2.6</td>\n",
       "    </tr>\n",
       "    <tr>\n",
       "        <td>1006</td>\n",
       "        <td>1992-04-13</td>\n",
       "        <td>05:20:45</td>\n",
       "        <td>MONTFORT(N)</td>\n",
       "        <td>5.987</td>\n",
       "        <td>51.087</td>\n",
       "        <td>14.3</td>\n",
       "        <td>3.0</td>\n",
       "    </tr>\n",
       "    <tr>\n",
       "        <td>1007</td>\n",
       "        <td>1992-04-13</td>\n",
       "        <td>05:25:29</td>\n",
       "        <td>5,5 KM W ROERMOND(N)</td>\n",
       "        <td>5.915</td>\n",
       "        <td>51.149</td>\n",
       "        <td>19.6</td>\n",
       "        <td>2.3</td>\n",
       "    </tr>\n",
       "    <tr>\n",
       "        <td>1009</td>\n",
       "        <td>1992-04-13</td>\n",
       "        <td>06:01:28</td>\n",
       "        <td>7,5 KM W ROERMOND(N)</td>\n",
       "        <td>5.907</td>\n",
       "        <td>51.157</td>\n",
       "        <td>15.1</td>\n",
       "        <td>1.8</td>\n",
       "    </tr>\n",
       "    <tr>\n",
       "        <td>1010</td>\n",
       "        <td>1992-04-13</td>\n",
       "        <td>06:02:11</td>\n",
       "        <td>ROERMOND(N)</td>\n",
       "        <td>5.968</td>\n",
       "        <td>51.148</td>\n",
       "        <td>15.0</td>\n",
       "        <td>3.2</td>\n",
       "    </tr>\n",
       "    <tr>\n",
       "        <td>1011</td>\n",
       "        <td>1992-04-13</td>\n",
       "        <td>06:16:35</td>\n",
       "        <td>ROERMOND(N)</td>\n",
       "        <td>5.959</td>\n",
       "        <td>51.147</td>\n",
       "        <td>14.9</td>\n",
       "        <td>2.7</td>\n",
       "    </tr>\n",
       "    <tr>\n",
       "        <td>1012</td>\n",
       "        <td>1992-04-13</td>\n",
       "        <td>06:22:56</td>\n",
       "        <td>ROERMOND(N)</td>\n",
       "        <td>5.960</td>\n",
       "        <td>51.144</td>\n",
       "        <td>13.9</td>\n",
       "        <td>2.0</td>\n",
       "    </tr>\n",
       "    <tr>\n",
       "        <td>1013</td>\n",
       "        <td>1992-04-13</td>\n",
       "        <td>06:33:40</td>\n",
       "        <td>ROERMOND(N)</td>\n",
       "        <td>5.976</td>\n",
       "        <td>51.143</td>\n",
       "        <td>15.5</td>\n",
       "        <td>2.7</td>\n",
       "    </tr>\n",
       "    <tr>\n",
       "        <td>1014</td>\n",
       "        <td>1992-04-13</td>\n",
       "        <td>08:18:36</td>\n",
       "        <td>MELCK EN HERKENBOSCH(N)</td>\n",
       "        <td>5.937</td>\n",
       "        <td>51.150</td>\n",
       "        <td>8.0</td>\n",
       "        <td>1.9</td>\n",
       "    </tr>\n",
       "    <tr>\n",
       "        <td>1015</td>\n",
       "        <td>1992-04-13</td>\n",
       "        <td>18:01:26</td>\n",
       "        <td>ROERMOND(N)</td>\n",
       "        <td>5.975</td>\n",
       "        <td>51.189</td>\n",
       "        <td>16.8</td>\n",
       "        <td>1.7</td>\n",
       "    </tr>\n",
       "    <tr>\n",
       "        <td>1016</td>\n",
       "        <td>1992-04-13</td>\n",
       "        <td>20:19:33</td>\n",
       "        <td>ROERMOND(N)</td>\n",
       "        <td>5.986</td>\n",
       "        <td>51.177</td>\n",
       "        <td>12.7</td>\n",
       "        <td>1.5</td>\n",
       "    </tr>\n",
       "    <tr>\n",
       "        <td>1017</td>\n",
       "        <td>1992-04-13</td>\n",
       "        <td>21:50:02</td>\n",
       "        <td>ROERMOND(N)</td>\n",
       "        <td>5.995</td>\n",
       "        <td>51.173</td>\n",
       "        <td>12.6</td>\n",
       "        <td>2.1</td>\n",
       "    </tr>\n",
       "    <tr>\n",
       "        <td>1018</td>\n",
       "        <td>1992-04-13</td>\n",
       "        <td>22:59:21</td>\n",
       "        <td>ROERMOND(N)</td>\n",
       "        <td>6.002</td>\n",
       "        <td>51.155</td>\n",
       "        <td>13.4</td>\n",
       "        <td>2.0</td>\n",
       "    </tr>\n",
       "    <tr>\n",
       "        <td>1019</td>\n",
       "        <td>1992-04-14</td>\n",
       "        <td>00:01:30</td>\n",
       "        <td>ROERMOND(N)</td>\n",
       "        <td>5.976</td>\n",
       "        <td>51.160</td>\n",
       "        <td>13.1</td>\n",
       "        <td>1.7</td>\n",
       "    </tr>\n",
       "    <tr>\n",
       "        <td>1020</td>\n",
       "        <td>1992-04-14</td>\n",
       "        <td>01:06:46</td>\n",
       "        <td>GEREONSWEILER(D)</td>\n",
       "        <td>6.208</td>\n",
       "        <td>50.944</td>\n",
       "        <td>17.0</td>\n",
       "        <td>3.7</td>\n",
       "    </tr>\n",
       "    <tr>\n",
       "        <td>1021</td>\n",
       "        <td>1992-04-14</td>\n",
       "        <td>01:36:23</td>\n",
       "        <td>KINZWEILER(D)-WEISWEILER(D)</td>\n",
       "        <td>6.234</td>\n",
       "        <td>50.833</td>\n",
       "        <td>16.3</td>\n",
       "        <td>2.8</td>\n",
       "    </tr>\n",
       "    <tr>\n",
       "        <td>1022</td>\n",
       "        <td>1992-04-14</td>\n",
       "        <td>02:31:07</td>\n",
       "        <td>ROERMOND(N)</td>\n",
       "        <td>5.995</td>\n",
       "        <td>51.162</td>\n",
       "        <td>13.0</td>\n",
       "        <td>2.3</td>\n",
       "    </tr>\n",
       "    <tr>\n",
       "        <td>1023</td>\n",
       "        <td>1992-04-14</td>\n",
       "        <td>12:41:39</td>\n",
       "        <td>BEEGDEN(N)</td>\n",
       "        <td>5.923</td>\n",
       "        <td>51.175</td>\n",
       "        <td>16.7</td>\n",
       "        <td>2.8</td>\n",
       "    </tr>\n",
       "    <tr>\n",
       "        <td>1024</td>\n",
       "        <td>1992-04-14</td>\n",
       "        <td>12:56:32</td>\n",
       "        <td>ROERMOND(N)</td>\n",
       "        <td>5.991</td>\n",
       "        <td>51.137</td>\n",
       "        <td>15.0</td>\n",
       "        <td>2.9</td>\n",
       "    </tr>\n",
       "    <tr>\n",
       "        <td>1025</td>\n",
       "        <td>1992-04-14</td>\n",
       "        <td>17:33:40</td>\n",
       "        <td>ROERMOND(N)</td>\n",
       "        <td>5.998</td>\n",
       "        <td>51.159</td>\n",
       "        <td>11.8</td>\n",
       "        <td>1.5</td>\n",
       "    </tr>\n",
       "    <tr>\n",
       "        <td>1026</td>\n",
       "        <td>1992-04-16</td>\n",
       "        <td>14:07:16</td>\n",
       "        <td>BEEGDEN(N)</td>\n",
       "        <td>5.929</td>\n",
       "        <td>51.133</td>\n",
       "        <td>20.0</td>\n",
       "        <td>2.3</td>\n",
       "    </tr>\n",
       "    <tr>\n",
       "        <td>1027</td>\n",
       "        <td>1992-04-16</td>\n",
       "        <td>23:29:47</td>\n",
       "        <td>ROERMOND(N)</td>\n",
       "        <td>6.009</td>\n",
       "        <td>51.191</td>\n",
       "        <td>20.4</td>\n",
       "        <td>1.2</td>\n",
       "    </tr>\n",
       "    <tr>\n",
       "        <td>1028</td>\n",
       "        <td>1992-04-17</td>\n",
       "        <td>05:27:43</td>\n",
       "        <td>HORN(N)</td>\n",
       "        <td>5.961</td>\n",
       "        <td>51.163</td>\n",
       "        <td>20.4</td>\n",
       "        <td>1.7</td>\n",
       "    </tr>\n",
       "    <tr>\n",
       "        <td>1029</td>\n",
       "        <td>1992-04-17</td>\n",
       "        <td>15:57:03</td>\n",
       "        <td>HORN(N)</td>\n",
       "        <td>5.955</td>\n",
       "        <td>51.200</td>\n",
       "        <td>11.7</td>\n",
       "        <td>1.4</td>\n",
       "    </tr>\n",
       "    <tr>\n",
       "        <td>1030</td>\n",
       "        <td>1992-04-20</td>\n",
       "        <td>04:28:28</td>\n",
       "        <td>ROERMOND(N)</td>\n",
       "        <td>5.970</td>\n",
       "        <td>51.174</td>\n",
       "        <td>16.6</td>\n",
       "        <td>1.9</td>\n",
       "    </tr>\n",
       "    <tr>\n",
       "        <td>1031</td>\n",
       "        <td>1992-04-20</td>\n",
       "        <td>04:41:03</td>\n",
       "        <td>ROERMOND(N)</td>\n",
       "        <td>5.972</td>\n",
       "        <td>51.174</td>\n",
       "        <td>16.5</td>\n",
       "        <td>1.9</td>\n",
       "    </tr>\n",
       "    <tr>\n",
       "        <td>1032</td>\n",
       "        <td>1992-04-20</td>\n",
       "        <td>07:27:01</td>\n",
       "        <td>ROERMOND(N)</td>\n",
       "        <td>5.999</td>\n",
       "        <td>51.162</td>\n",
       "        <td>14.0</td>\n",
       "        <td>2.0</td>\n",
       "    </tr>\n",
       "    <tr>\n",
       "        <td>1033</td>\n",
       "        <td>1992-04-20</td>\n",
       "        <td>16:50:08</td>\n",
       "        <td>ESCHWEILER(D)</td>\n",
       "        <td>6.238</td>\n",
       "        <td>50.810</td>\n",
       "        <td>14.8</td>\n",
       "        <td>2.2</td>\n",
       "    </tr>\n",
       "    <tr>\n",
       "        <td>1034</td>\n",
       "        <td>1992-04-21</td>\n",
       "        <td>07:52:20</td>\n",
       "        <td>ROERMOND(N)</td>\n",
       "        <td>5.948</td>\n",
       "        <td>51.176</td>\n",
       "        <td>15.0</td>\n",
       "        <td>1.9</td>\n",
       "    </tr>\n",
       "    <tr>\n",
       "        <td>1035</td>\n",
       "        <td>1992-04-24</td>\n",
       "        <td>10:35:27</td>\n",
       "        <td>ROERMOND(N)</td>\n",
       "        <td>6.000</td>\n",
       "        <td>51.155</td>\n",
       "        <td>13.8</td>\n",
       "        <td>2.3</td>\n",
       "    </tr>\n",
       "    <tr>\n",
       "        <td>1036</td>\n",
       "        <td>1992-05-02</td>\n",
       "        <td>08:50:02</td>\n",
       "        <td>ROERMOND(N)</td>\n",
       "        <td>5.999</td>\n",
       "        <td>51.166</td>\n",
       "        <td>14.5</td>\n",
       "        <td>2.4</td>\n",
       "    </tr>\n",
       "    <tr>\n",
       "        <td>1037</td>\n",
       "        <td>1992-05-15</td>\n",
       "        <td>19:33:27</td>\n",
       "        <td>ROERMOND(N)</td>\n",
       "        <td>5.963</td>\n",
       "        <td>51.154</td>\n",
       "        <td>16.8</td>\n",
       "        <td>2.8</td>\n",
       "    </tr>\n",
       "    <tr>\n",
       "        <td>1038</td>\n",
       "        <td>1992-05-17</td>\n",
       "        <td>09:25:57</td>\n",
       "        <td>SIERSDORF(D) E ALDENHOVEN</td>\n",
       "        <td>6.235</td>\n",
       "        <td>50.880</td>\n",
       "        <td>15.8</td>\n",
       "        <td>2.3</td>\n",
       "    </tr>\n",
       "    <tr>\n",
       "        <td>1039</td>\n",
       "        <td>1992-05-19</td>\n",
       "        <td>01:37:32</td>\n",
       "        <td>SE ROERMOND(N)</td>\n",
       "        <td>5.939</td>\n",
       "        <td>51.155</td>\n",
       "        <td>14.7</td>\n",
       "        <td>1.5</td>\n",
       "    </tr>\n",
       "    <tr>\n",
       "        <td>1041</td>\n",
       "        <td>1992-06-25</td>\n",
       "        <td>16:48:55</td>\n",
       "        <td>HATTERATH(D)</td>\n",
       "        <td>6.125</td>\n",
       "        <td>50.950</td>\n",
       "        <td>15.4</td>\n",
       "        <td>2.0</td>\n",
       "    </tr>\n",
       "    <tr>\n",
       "        <td>1042</td>\n",
       "        <td>1992-07-30</td>\n",
       "        <td>05:39:04</td>\n",
       "        <td>E ROERMOND(N)</td>\n",
       "        <td>5.907</td>\n",
       "        <td>51.154</td>\n",
       "        <td>10.1</td>\n",
       "        <td>2.9</td>\n",
       "    </tr>\n",
       "    <tr>\n",
       "        <td>2636</td>\n",
       "        <td>1992-08-16</td>\n",
       "        <td>19:03:20</td>\n",
       "        <td>ROERMOND (NL)</td>\n",
       "        <td>5.987</td>\n",
       "        <td>51.155</td>\n",
       "        <td>19.7</td>\n",
       "        <td>2.1</td>\n",
       "    </tr>\n",
       "    <tr>\n",
       "        <td>1050</td>\n",
       "        <td>1992-11-04</td>\n",
       "        <td>03:56:01</td>\n",
       "        <td>HOENGEN(D)</td>\n",
       "        <td>6.215</td>\n",
       "        <td>50.830</td>\n",
       "        <td>17.8</td>\n",
       "        <td>2.5</td>\n",
       "    </tr>\n",
       "</table>"
      ],
      "text/plain": [
       "<IPython.core.display.HTML object>"
      ]
     },
     "metadata": {},
     "output_type": "display_data"
    }
   ],
   "source": [
    "render_html(aftershocks.print_list(as_html=True))"
   ]
  },
  {
   "cell_type": "markdown",
   "metadata": {},
   "source": [
    "Determine cutoff magnitude"
   ]
  },
  {
   "cell_type": "code",
   "execution_count": 10,
   "metadata": {},
   "outputs": [
    {
     "data": {
      "image/png": "[encoded data removed]",
      "text/plain": [
       "<matplotlib.figure.Figure at 0x1167dbe0>"
      ]
     },
     "metadata": {},
     "output_type": "display_data"
    }
   ],
   "source": [
    "aftershocks.plot_Mhistogram(1.2, 4.0, 0.2, Mtype='ML', Mrelation={})"
   ]
  },
  {
   "cell_type": "code",
   "execution_count": 11,
   "metadata": {},
   "outputs": [
    {
     "name": "stdout",
     "output_type": "stream",
     "text": [
      "+-------------------+-------------------------+\n",
      "|     Parameter     |          Value          |\n",
      "+-------------------+-------------------------+\n",
      "|    Catalog name   |        (subselect)      |\n",
      "| Earthquake number |            44           |\n",
      "|     Start time    | 1992-04-13T01:22:53.000 |\n",
      "|      End time     | 1992-11-04T03:56:01.000 |\n",
      "|  Longitude bounds |     5.8688 / 6.2603     |\n",
      "|  Latitude bounds  |    50.8100 / 51.1782    |\n",
      "|    Depth range    |      8.0 / 24.0 km      |\n",
      "|         ML        |  n=44, min=1.9, max=3.9 |\n",
      "|    Event types    |        ke (n=44)        |\n",
      "+-------------------+-------------------------+\n"
     ]
    },
    {
     "data": {
      "text/plain": [
       "<prettytable.prettytable.PrettyTable at 0x117e7ac8>"
      ]
     },
     "execution_count": 11,
     "metadata": {},
     "output_type": "execute_result"
    }
   ],
   "source": [
    "Mc = 2.2\n",
    "aftershocks_Mc = aftershocks.subselect(Mmin=Mc)\n",
    "aftershocks_Mc.print_info()"
   ]
  },
  {
   "cell_type": "markdown",
   "metadata": {},
   "source": [
    "Fit aftershock rate (binned time intervals)"
   ]
  },
  {
   "cell_type": "code",
   "execution_count": 11,
   "metadata": {},
   "outputs": [
    {
     "name": "stdout",
     "output_type": "stream",
     "text": [
      "0.003958333333333334\n",
      "[23.  3.  4.  0.  0.  0.  0.  1.  0.  0.  0.  0.  0.  0.  3.  1.  1.  0.\n",
      "  0.  0.  0.  0.  1.  0.  0.  0.  0.  0.  0.  0.  0.  0.  0.  0.  0.  0.\n",
      "  0.  0.  1.  0.  0.  0.  0.  0.  0.  0.  0.  0.  0.  0.  0.  0.  0.  0.\n",
      "  0.  0.  0.  0.  0.  0.  0.]\n"
     ]
    }
   ],
   "source": [
    "time_delta = np.timedelta64(12, 'h')\n",
    "start_date = mainshock.datetime\n",
    "end_date = mainshock.datetime + np.timedelta64(1, 'M').astype('m8[s]')\n",
    "\n",
    "elapsed_time = aftershocks_Mc.start_date - mainshock.datetime\n",
    "elapsed_time_delta = elapsed_time/time_delta\n",
    "print(elapsed_time_delta)\n",
    "\n",
    "observed_rate, bins_times = aftershocks_Mc.bin_by_time_interval(start_date, end_date, time_delta)\n",
    "#delta_t1 = np.arange(len(bins_times)) + elapsed_time\n",
    "delta_t1 = np.arange(len(bins_times)) + 0.5\n",
    "print(observed_rate)"
   ]
  },
  {
   "cell_type": "code",
   "execution_count": 12,
   "metadata": {},
   "outputs": [
    {
     "name": "stdout",
     "output_type": "stream",
     "text": [
      "(7.566753831166596, 0.001000000000000257, 1.6054115802055573)\n",
      "[4.56131416 0.29082185 0.48940756]\n"
     ]
    }
   ],
   "source": [
    "popt, perr = omori.OmoriLaw.fit_rate(delta_t1, observed_rate, initial_guess=(1,0.01, 1.2))\n",
    "K, c, p = popt\n",
    "print(K, c, p)\n",
    "print(perr)"
   ]
  },
  {
   "cell_type": "code",
   "execution_count": 13,
   "metadata": {},
   "outputs": [
    {
     "data": {
      "image/png": "[encoded data removed]",
      "text/plain": [
       "<matplotlib.figure.Figure at 0x12784780>"
      ]
     },
     "metadata": {},
     "output_type": "display_data"
    }
   ],
   "source": [
    "mol = omori.OmoriLaw(K, c, p, Mc)\n",
    "pylab.semilogx(delta_t1, observed_rate, label='Observed')\n",
    "predicted_rate = mol.get_aftershock_rate(delta_t1)\n",
    "pylab.semilogx(delta_t1, predicted_rate, label='Omori fit')\n",
    "pylab.legend()\n",
    "pylab.show()"
   ]
  },
  {
   "cell_type": "code",
   "execution_count": 14,
   "metadata": {},
   "outputs": [
    {
     "data": {
      "text/plain": [
       "810.4286510041788"
      ]
     },
     "execution_count": 14,
     "metadata": {},
     "output_type": "execute_result"
    }
   ],
   "source": [
    "## Predicted number of aftershocks in 1 day\n",
    "mol.get_num_aftershocks(2)"
   ]
  },
  {
   "cell_type": "markdown",
   "metadata": {},
   "source": [
    "Fit aftershock rate (unbinned time interval)"
   ]
  },
  {
   "cell_type": "code",
   "execution_count": 15,
   "metadata": {},
   "outputs": [
    {
     "data": {
      "text/plain": [
       "[<matplotlib.lines.Line2D at 0x125d9f28>]"
      ]
     },
     "execution_count": 15,
     "metadata": {},
     "output_type": "execute_result"
    },
    {
     "data": {
      "image/png": "[encoded data removed]",
      "text/plain": [
       "<matplotlib.figure.Figure at 0x1264d320>"
      ]
     },
     "metadata": {},
     "output_type": "display_data"
    }
   ],
   "source": [
    "time_delta = np.timedelta64(1, 'D')\n",
    "end_date = mainshock.datetime + np.timedelta64(1, 'M').astype('m8[s]')\n",
    "\n",
    "aftershock_dts = aftershocks_Mc.get_datetimes()\n",
    "delta_t2 = (aftershock_dts - mainshock.datetime) / time_delta\n",
    "delta_t2 = delta_t2[aftershock_dts < end_date]\n",
    "\n",
    "observed_rate = np.ones_like(delta_t2) / delta_t2\n",
    "pylab.semilogx(delta_t2[1:], observed_rate[1:], 'x')\n",
    "#print(delta_t1)\n",
    "#print(observed_rate)"
   ]
  },
  {
   "cell_type": "code",
   "execution_count": 16,
   "metadata": {},
   "outputs": [
    {
     "name": "stdout",
     "output_type": "stream",
     "text": [
      "(0.8594781695342956, 0.0010000000000000002, 1.056317182487326)\n",
      "[0.02632451 0.00018313 0.01066828]\n"
     ]
    }
   ],
   "source": [
    "popt, perr = omori.OmoriLaw.fit_rate(delta_t2[1:], observed_rate[1:], initial_guess=(1,0.01, 1.2))\n",
    "K, c, p = popt\n",
    "print(K, c, p)\n",
    "print(perr)"
   ]
  },
  {
   "cell_type": "code",
   "execution_count": 18,
   "metadata": {},
   "outputs": [
    {
     "data": {
      "image/png": "[encoded data removed]",
      "text/plain": [
       "<matplotlib.figure.Figure at 0x1264d978>"
      ]
     },
     "metadata": {},
     "output_type": "display_data"
    }
   ],
   "source": [
    "mol = omori.OmoriLaw(K, c, p, Mc)\n",
    "pylab.semilogx(delta_t2, observed_rate, 'x', label='Observed')\n",
    "predicted_rate = mol.get_aftershock_rate(delta_t2)\n",
    "pylab.semilogx(delta_t2, predicted_rate, label='Omori fit')\n",
    "pylab.legend()\n",
    "pylab.show()"
   ]
  },
  {
   "cell_type": "code",
   "execution_count": 19,
   "metadata": {},
   "outputs": [
    {
     "name": "stdout",
     "output_type": "stream",
     "text": [
      "7.258286808274387\n"
     ]
    }
   ],
   "source": [
    "print(mol.get_num_aftershocks(1))"
   ]
  },
  {
   "cell_type": "markdown",
   "metadata": {},
   "source": [
    "Fit cumulative number of aftershocks"
   ]
  },
  {
   "cell_type": "code",
   "execution_count": 20,
   "metadata": {},
   "outputs": [],
   "source": [
    "observed_N = np.arange(1, len(delta_t2)+1)"
   ]
  },
  {
   "cell_type": "code",
   "execution_count": 21,
   "metadata": {},
   "outputs": [
    {
     "name": "stdout",
     "output_type": "stream",
     "text": [
      "(5.179465842152972, 0.056137838416010916, 1.3808808109800834)\n",
      "[0.22673319 0.01531255 0.0889764 ]\n"
     ]
    }
   ],
   "source": [
    "popt, perr = omori.OmoriLaw.fit_cumulative(delta_t2, observed_N, initial_guess=(1, 0.01, 1.2))\n",
    "K, c, p = popt\n",
    "print(K, c, p)\n",
    "print(perr)"
   ]
  },
  {
   "cell_type": "code",
   "execution_count": 22,
   "metadata": {},
   "outputs": [
    {
     "data": {
      "image/png": "[encoded data removed]",
      "text/plain": [
       "<matplotlib.figure.Figure at 0x12784dd8>"
      ]
     },
     "metadata": {},
     "output_type": "display_data"
    }
   ],
   "source": [
    "mol = omori.OmoriLaw(K, c, p, Mc)\n",
    "pylab.plot(delta_t2, observed_N, 'x', label='Observed')\n",
    "predicted_N = mol.get_num_aftershocks(delta_t2)\n",
    "pylab.plot(delta_t2, predicted_N, label='Omori fit')\n",
    "pylab.legend()\n",
    "pylab.show()"
   ]
  },
  {
   "cell_type": "code",
   "execution_count": 28,
   "metadata": {},
   "outputs": [
    {
     "data": {
      "image/png": "[encoded data removed]",
      "text/plain": [
       "<matplotlib.figure.Figure at 0x14580518>"
      ]
     },
     "metadata": {},
     "output_type": "display_data"
    }
   ],
   "source": [
    "pylab.semilogx(delta_t2, observed_rate, 'x', label='Observed')\n",
    "predicted_rate = mol.get_aftershock_rate(delta_t2)\n",
    "pylab.semilogx(delta_t2, predicted_rate, label='Omori fit')\n",
    "pylab.xlim(0, 1.5)\n",
    "pylab.legend()\n",
    "pylab.show()"
   ]
  },
  {
   "cell_type": "code",
   "execution_count": 29,
   "metadata": {},
   "outputs": [
    {
     "name": "stdout",
     "output_type": "stream",
     "text": [
      "27.40813027328575\n"
     ]
    }
   ],
   "source": [
    "print(mol.get_num_aftershocks(1))"
   ]
  },
  {
   "cell_type": "code",
   "execution_count": 70,
   "metadata": {},
   "outputs": [
    {
     "data": {
      "image/png": "[encoded data removed]",
      "text/plain": [
       "<matplotlib.figure.Figure at 0x14d009e8>"
      ]
     },
     "metadata": {},
     "output_type": "display_data"
    }
   ],
   "source": [
    "mol.plot_rate(delta_t2)"
   ]
  },
  {
   "cell_type": "code",
   "execution_count": 30,
   "metadata": {},
   "outputs": [],
   "source": [
    "time_delta = np.timedelta64(1, 'D')\n",
    "start_time = mainshock.datetime\n",
    "end_date = mainshock.datetime + np.timedelta64(7, 'D').astype('m8[s]')\n",
    "as_dts = aftershocks_Mc.get_datetimes()\n",
    "delta_t3 = (as_dts - start_time) / time_delta\n",
    "delta_t3 = delta_t3[as_dts <= end_date]\n",
    "#print(delta_t3)"
   ]
  },
  {
   "cell_type": "code",
   "execution_count": 31,
   "metadata": {},
   "outputs": [
    {
     "data": {
      "text/plain": [
       "[<matplotlib.lines.Line2D at 0x10f82da0>]"
      ]
     },
     "execution_count": 31,
     "metadata": {},
     "output_type": "execute_result"
    },
    {
     "data": {
      "image/png": "[encoded data removed]",
      "text/plain": [
       "<matplotlib.figure.Figure at 0x116535f8>"
      ]
     },
     "metadata": {},
     "output_type": "display_data"
    }
   ],
   "source": [
    "pylab.plot(delta_t3, range(len(delta_t3)))"
   ]
  },
  {
   "cell_type": "code",
   "execution_count": 78,
   "metadata": {},
   "outputs": [
    {
     "name": "stdout",
     "output_type": "stream",
     "text": [
      "(4.858291441740856, 0.07771157782813741, 1.546118690690681)\n"
     ]
    }
   ],
   "source": [
    "(K, c, p) = eqcatalog.omori.estimate_omori_params(delta_t3, initial_guess=(0.001, 1.0),\n",
    "                                                  minimize_method='Nelder-Mead', Ts=None,\n",
    "                                                  bounds=((0.0001, 0.1), (0.1,2)), verbose=False)\n",
    "print(K, c, p)"
   ]
  },
  {
   "cell_type": "code",
   "execution_count": 79,
   "metadata": {},
   "outputs": [
    {
     "data": {
      "image/png": "[encoded data removed]",
      "text/plain": [
       "<matplotlib.figure.Figure at 0x135de048>"
      ]
     },
     "metadata": {},
     "output_type": "display_data"
    }
   ],
   "source": [
    "observed_N = np.arange(1, len(delta_t3)+1)\n",
    "mol = omori.OmoriLaw(K, c, p, Mc)\n",
    "pylab.plot(delta_t3, observed_N, 'x', label='Observed')\n",
    "predicted_N = mol.get_num_aftershocks(delta_t3)\n",
    "pylab.plot(delta_t3, predicted_N, label='Omori fit')\n",
    "pylab.legend()\n",
    "pylab.show()"
   ]
  },
  {
   "cell_type": "code",
   "execution_count": 80,
   "metadata": {},
   "outputs": [
    {
     "name": "stdout",
     "output_type": "stream",
     "text": [
      "27.362588723233028\n"
     ]
    }
   ],
   "source": [
    "print(mol.get_num_aftershocks(1))"
   ]
  },
  {
   "cell_type": "markdown",
   "metadata": {},
   "source": [
    "Papers:\n",
    "https://aees.org.au/wp-content/uploads/2015/06/4-Ghasemi-Hadi-Afterschock.pdf\n",
    "http://www1.rcep.dpri.kyoto-u.ac.jp/~benescu/Work/Nanjo_et_al_JGR_2007.pdf"
   ]
  }
 ],
 "metadata": {
  "kernelspec": {
   "display_name": "Python 2",
   "language": "python",
   "name": "python2"
  },
  "language_info": {
   "codemirror_mode": {
    "name": "ipython",
    "version": 2
   },
   "file_extension": ".py",
   "mimetype": "text/x-python",
   "name": "python",
   "nbconvert_exporter": "python",
   "pygments_lexer": "ipython2",
   "version": "2.7.15"
  }
 },
 "nbformat": 4,
 "nbformat_minor": 2
}
