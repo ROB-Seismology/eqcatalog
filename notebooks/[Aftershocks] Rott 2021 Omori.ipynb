{
 "cells": [
  {
   "cell_type": "code",
   "execution_count": null,
   "metadata": {},
   "outputs": [],
   "source": [
    "%matplotlib inline"
   ]
  },
  {
   "cell_type": "markdown",
   "metadata": {},
   "source": [
    "# Omori law statistics"
   ]
  },
  {
   "cell_type": "markdown",
   "metadata": {},
   "source": [
    "The modified Omori law (*Utsu, 1961*) describes the power-law decay of aftershock rates following a mainshock with magnitude $M_m$:\n",
    "\n",
    "$$N(t,M \\geq M_c) = K(t+c)^{-p}$$\n",
    "\n",
    "- $N$ : cumulative number of aftershocks\n",
    "- $t$ : elapsed time since mainshock\n",
    "- $M_c$: completeness magnitude\n",
    "- $K$ : productivity (initial slope), depends on $M_m$ and $M_c$\n",
    "- $p$ : power-law exponent, independent of $M_m$ and $M_c$ (0.6 - 2.5 according to worldwide survey, with median ~1.1)\n",
    "- $c$ : small positive constant, interpreted as delay of earliest part of the sequence (0.01 - 1 days)"
   ]
  },
  {
   "cell_type": "markdown",
   "metadata": {},
   "source": [
    "Based on the following papers:\n",
    "- Utsu, T., Ogata, Y., Matsu'ura, R. (1995), \"The Centenary of the Omori Formula for a Decay Law of Aftershock Activity\", *J. Phys. Earth*, **43**, 1-33 (https://www.jstage.jst.go.jp/article/jpe1952/43/1/43_1_1/_pdf)"
   ]
  },
  {
   "cell_type": "code",
   "execution_count": null,
   "metadata": {},
   "outputs": [],
   "source": [
    "import datetime\n",
    "import pylab\n",
    "import numpy as np\n",
    "import mapping.layeredbasemap as lbm\n",
    "import eqcatalog\n",
    "import hazard.rshalib as rshalib"
   ]
  },
  {
   "cell_type": "markdown",
   "metadata": {},
   "source": [
    "Read earthquake sequence from database"
   ]
  },
  {
   "cell_type": "code",
   "execution_count": null,
   "metadata": {},
   "outputs": [],
   "source": [
    "start_date = datetime.date(2021, 1, 1)\n",
    "cat = eqcatalog.rob.query_local_eq_catalog(start_date=start_date, region=(6.0, 6.4, 50.58, 50.875))\n",
    "cat.print_info()"
   ]
  },
  {
   "cell_type": "code",
   "execution_count": null,
   "metadata": {},
   "outputs": [],
   "source": [
    "cat.plot_map(resolution='h')"
   ]
  },
  {
   "cell_type": "markdown",
   "metadata": {},
   "source": [
    "### Declustering analysis"
   ]
  },
  {
   "cell_type": "markdown",
   "metadata": {},
   "source": [
    "Check if different declustering windows/methods identify sequence as 1 cluster. Note that all declustering methods are based on $M_W$, so we need a conversion from $M_L$."
   ]
  },
  {
   "cell_type": "code",
   "execution_count": null,
   "metadata": {},
   "outputs": [],
   "source": [
    "dc_method = eqcatalog.declustering.LinkedWindowMethod()"
   ]
  },
  {
   "cell_type": "code",
   "execution_count": null,
   "metadata": {},
   "outputs": [],
   "source": [
    "Mrelation = {'ML': 'GruenthalEtAl2009'}\n",
    "lw_dc_results = {}\n",
    "for dc_window_name in ('GardnerKnopoff1974', 'Uhrhammer1986', 'Gruenthal2009'):\n",
    "    print(dc_window_name)\n",
    "    dc_window = eqcatalog.declustering.get_window_by_name(dc_window_name)\n",
    "    dc_result = dc_method.analyze_clusters(cat, dc_window, Mrelation,\n",
    "                                          ignore_location_errors=True)\n",
    "    dc_result.print_info()\n",
    "    lw_dc_results[dc_window_name] = dc_result\n",
    "    print()"
   ]
  },
  {
   "cell_type": "code",
   "execution_count": null,
   "metadata": {},
   "outputs": [],
   "source": [
    "dc_method = eqcatalog.declustering.ReasenbergMethod()\n",
    "dc_window = eqcatalog.declustering.Reasenberg1985Window(dsigma=30, xmeff=0.7)\n",
    "dc_result = dc_method.analyze_clusters(cat, Mrelation, dc_window, ignore_location_errors=False)\n",
    "print('Reasenberg1985')\n",
    "dc_result.print_info()"
   ]
  },
  {
   "cell_type": "code",
   "execution_count": null,
   "metadata": {},
   "outputs": [],
   "source": [
    "dc_result.get_unclustered_events().print_list()"
   ]
  },
  {
   "cell_type": "markdown",
   "metadata": {},
   "source": [
    "### Omori-law fitting"
   ]
  },
  {
   "cell_type": "markdown",
   "metadata": {},
   "source": [
    "Determine completeness magnitude Mc"
   ]
  },
  {
   "cell_type": "code",
   "execution_count": null,
   "metadata": {},
   "outputs": [],
   "source": [
    "completeness = cat.get_uniform_completeness(0, Mtype='ML')\n",
    "seq_mfd = cat.get_incremental_mfd(0, 3, 0.2, Mtype='ML', completeness=completeness)\n",
    "seq_mfd.plot()"
   ]
  },
  {
   "cell_type": "markdown",
   "metadata": {},
   "source": [
    "Mc can be estimated as 0.7 (0.3 if you are optimistic)"
   ]
  },
  {
   "cell_type": "code",
   "execution_count": null,
   "metadata": {},
   "outputs": [],
   "source": [
    "Mc = 0.3\n",
    "#Mc = 0.7"
   ]
  },
  {
   "cell_type": "markdown",
   "metadata": {},
   "source": [
    "Estimate parameters K, c, p of Omori law based on elapsed times since mainshock"
   ]
  },
  {
   "cell_type": "code",
   "execution_count": null,
   "metadata": {},
   "outputs": [],
   "source": [
    "mainshock = cat.get_event_by_id(11630)\n",
    "Mm = mainshock.ML\n",
    "mainshock.print_info()"
   ]
  },
  {
   "cell_type": "code",
   "execution_count": null,
   "metadata": {},
   "outputs": [],
   "source": [
    "cluster = dc_result.get_cluster_by_eq(mainshock)\n",
    "aftershocks = cluster.get_aftershocks()\n",
    "aftershocks.print_info()"
   ]
  },
  {
   "cell_type": "code",
   "execution_count": null,
   "metadata": {},
   "outputs": [],
   "source": [
    "cc_aftershocks = aftershocks.subselect(Mmin=Mc, Mtype='ML')\n",
    "print(len(cc_aftershocks))"
   ]
  },
  {
   "cell_type": "code",
   "execution_count": null,
   "metadata": {},
   "outputs": [],
   "source": [
    "as_time_deltas = cc_aftershocks.get_time_deltas(mainshock.datetime)\n",
    "as_time_deltas = eqcatalog.time.fractional_time_delta(as_time_deltas, 'D')\n",
    "as_time_deltas"
   ]
  },
  {
   "cell_type": "code",
   "execution_count": null,
   "metadata": {},
   "outputs": [],
   "source": [
    "pylab.plot(as_time_deltas, np.arange(len(cc_aftershocks))+1)"
   ]
  },
  {
   "cell_type": "markdown",
   "metadata": {},
   "source": [
    "Fit full sequence"
   ]
  },
  {
   "cell_type": "code",
   "execution_count": null,
   "metadata": {},
   "outputs": [],
   "source": [
    "#(K1, c1, p1) = eqcatalog.omori.estimate_omori_params(as_time_deltas)\n",
    "(K1, c1, p1), _, _ = eqcatalog.omori.OmoriLaw.fit_cumulative(as_time_deltas, np.arange(len(as_time_deltas)))\n",
    "print(K1, c1, p1)"
   ]
  },
  {
   "cell_type": "markdown",
   "metadata": {},
   "source": [
    "Fit first 12 days"
   ]
  },
  {
   "cell_type": "code",
   "execution_count": null,
   "metadata": {},
   "outputs": [],
   "source": [
    "(K2, c2, p2) = eqcatalog.omori.estimate_omori_params(as_time_deltas[as_time_deltas < 12])\n",
    "print(K2, c2, p2)"
   ]
  },
  {
   "cell_type": "markdown",
   "metadata": {},
   "source": [
    "Note that value of K depends on completeness magnitude and mainshock magnitude, so these are inherent properties of the Omori law!"
   ]
  },
  {
   "cell_type": "markdown",
   "metadata": {},
   "source": [
    "Define Omori law, including completeness magnitude and mainshock magnitude. Default time unit is days."
   ]
  },
  {
   "cell_type": "code",
   "execution_count": null,
   "metadata": {},
   "outputs": [],
   "source": [
    "omlaw1 = eqcatalog.omori.OmoriLaw(K1, c1, p1, Mc, Mm)\n",
    "omlaw2 = eqcatalog.omori.OmoriLaw(K2, c2, p2, Mc, Mm)"
   ]
  },
  {
   "cell_type": "code",
   "execution_count": null,
   "metadata": {},
   "outputs": [],
   "source": [
    "today = datetime.date.today()\n",
    "num_days = (today - start_date).days\n",
    "x_values = np.linspace(0, num_days, 50)\n",
    "marker_sizes = ((np.array([eq.ML for eq in cc_aftershocks]) - Mc) + 2)**2\n",
    "#observed_cluster_idxs = [0,1] * (len(cc_aftershocks) // 2)\n",
    "observed_cluster_idxs = [lw_dc_results['GardnerKnopoff1974'].get_cluster_by_eq(eq).ID\n",
    "                         for eq in cc_aftershocks]\n",
    "unique_cluster_idxs = np.unique(observed_cluster_idxs)\n",
    "cm = pylab.cm.rainbow\n",
    "colors = [cm(i) for i in np.linspace(0, 1, len(unique_cluster_idxs))]\n",
    "label = 'Omori fit ($M_c=%.1f$)' % Mc\n",
    "omlaw1.plot_cumulative(x_values, observed_delta_t=as_time_deltas, xscaling='lin',\n",
    "                      observed_marker_sizes=marker_sizes, observed_marker='o',\n",
    "                      observed_cluster_colors=colors,\n",
    "                      observed_cluster_idxs=observed_cluster_idxs, label=label)"
   ]
  },
  {
   "cell_type": "code",
   "execution_count": null,
   "metadata": {},
   "outputs": [],
   "source": [
    "cc_aftershocks[[4,10,16]].print_list()"
   ]
  },
  {
   "cell_type": "code",
   "execution_count": null,
   "metadata": {},
   "outputs": [],
   "source": [
    "omlaw1.plot_rate(x_values)"
   ]
  },
  {
   "cell_type": "markdown",
   "metadata": {},
   "source": [
    "### Probabilities and predictions"
   ]
  },
  {
   "cell_type": "markdown",
   "metadata": {},
   "source": [
    "Assuming aftershock occurrence follows a (non-stationary) **Poisson** probability model (see separate notebook), it is possible to compute probabilities and make some predictions. All predictions are valid for $M \\geq Mc$"
   ]
  },
  {
   "cell_type": "markdown",
   "metadata": {},
   "source": [
    "Number of aftershocks"
   ]
  },
  {
   "cell_type": "code",
   "execution_count": null,
   "metadata": {},
   "outputs": [],
   "source": [
    "end_time = 15\n",
    "omlaw2.get_num_aftershocks(end_time)"
   ]
  },
  {
   "cell_type": "code",
   "execution_count": null,
   "metadata": {},
   "outputs": [],
   "source": [
    "start_time = 28\n",
    "end_time = start_time + 7\n",
    "omlaw1.get_num_aftershocks(end_time, start_time)"
   ]
  },
  {
   "cell_type": "markdown",
   "metadata": {},
   "source": [
    "Probability of exactly $n$ earthquakes"
   ]
  },
  {
   "cell_type": "code",
   "execution_count": null,
   "metadata": {},
   "outputs": [],
   "source": [
    "start_time = 5\n",
    "end_time = 6\n",
    "for n in range(6):\n",
    "    p = omlaw2.get_prob_n_aftershocks(n, end_time, start_time)\n",
    "    print('n=%d: p=%.4f' % (n, p))"
   ]
  },
  {
   "cell_type": "markdown",
   "metadata": {},
   "source": [
    "Probability of $\\geq 1$ earthquakes ($=1-P(0)$)"
   ]
  },
  {
   "cell_type": "code",
   "execution_count": null,
   "metadata": {},
   "outputs": [],
   "source": [
    "start_time = 28\n",
    "end_time = start_time + 7\n",
    "omlaw1.get_prob_one_or_more_aftershocks(end_time, start_time)"
   ]
  },
  {
   "cell_type": "markdown",
   "metadata": {},
   "source": [
    "Duration"
   ]
  },
  {
   "cell_type": "code",
   "execution_count": null,
   "metadata": {},
   "outputs": [],
   "source": [
    "n = 15\n",
    "omlaw1.get_time_delta_for_n_aftershocks(n)"
   ]
  },
  {
   "cell_type": "code",
   "execution_count": null,
   "metadata": {},
   "outputs": [],
   "source": [
    "omlaw1.get_time_delta_for_n_aftershocks(n, delta_t1=2)"
   ]
  },
  {
   "cell_type": "code",
   "execution_count": null,
   "metadata": {},
   "outputs": [],
   "source": [
    "omlaw1.get_interaction_time(0.95, 30)"
   ]
  },
  {
   "cell_type": "markdown",
   "metadata": {},
   "source": [
    "To compute aftershock duration, we need to know the background rate. We estimate this from the entire catalog since 1985, convert to daily rate, and correct for area"
   ]
  },
  {
   "cell_type": "code",
   "execution_count": null,
   "metadata": {},
   "outputs": [],
   "source": [
    "full_cat = eqcatalog.read_named_catalog('ROB', verbose=False).subselect(start_date=1985)\n",
    "full_cat.print_info()"
   ]
  },
  {
   "cell_type": "markdown",
   "metadata": {},
   "source": [
    "Determine Gutenberg-Richter relation for entire catalog."
   ]
  },
  {
   "cell_type": "code",
   "execution_count": null,
   "metadata": {},
   "outputs": [],
   "source": [
    "completeness = full_cat.get_uniform_completeness(0, Mtype='ML')\n",
    "cat_imfd = full_cat.get_incremental_mfd(1.75, 5, 0.2, Mtype='ML', completeness=completeness)\n",
    "cat_tmfd = full_cat.get_estimated_mfd(1.75, 5, 0.2, Mtype='ML', completeness=completeness)\n",
    "cat_tmfd.min_mag = Mc\n",
    "print(cat_tmfd)\n",
    "rshalib.mfd.plot_mfds([cat_imfd, cat_tmfd], labels=['Observed', 'GRT fit'])"
   ]
  },
  {
   "cell_type": "code",
   "execution_count": null,
   "metadata": {},
   "outputs": [],
   "source": [
    "area_factor = (lbm.PolygonData.from_bbox(full_cat.get_region()).get_area()\n",
    "               / lbm.PolygonData.from_bbox(cat.get_region()).get_area())\n",
    "print(area_factor)"
   ]
  },
  {
   "cell_type": "code",
   "execution_count": null,
   "metadata": {},
   "outputs": [],
   "source": [
    "background_rate = cat_tmfd.get_cumulative_rates()[0]\n",
    "background_rate /= 365\n",
    "background_rate /= area_factor\n",
    "print(background_rate)"
   ]
  },
  {
   "cell_type": "code",
   "execution_count": null,
   "metadata": {},
   "outputs": [],
   "source": [
    "#background_rate = 1./30\n",
    "omlaw2.get_aftershock_duration(background_rate)"
   ]
  },
  {
   "cell_type": "markdown",
   "metadata": {},
   "source": [
    "We can do some predictions, but not about the magnitude distribution!"
   ]
  },
  {
   "cell_type": "markdown",
   "metadata": {},
   "source": [
    "In order to do that, we need to combine the Omori law with the Gutenberg-Richter relation (*Reasenberg & Jones, 1989, 1994*). This involves converting K to the magnitude-independent productivity parameter $A$, which is thought to be characteristic of a region:\n",
    "\n",
    "$$A = \\log_{10}(K) - b (M_m - M_c)$$\n",
    "\n",
    "where $b$ is the b-value of the Gutenberg-Richter relation (log10 notation)"
   ]
  },
  {
   "cell_type": "markdown",
   "metadata": {},
   "source": [
    "Note that it would be better to convert ML to MW for this exercise"
   ]
  },
  {
   "cell_type": "code",
   "execution_count": null,
   "metadata": {},
   "outputs": [],
   "source": [
    "as_imfd = cc_aftershocks.get_incremental_mfd(0.7, Mm, Mtype='ML', completeness=completeness)\n",
    "as_tmfd = cc_aftershocks.get_estimated_mfd(0.7, Mm, Mtype='ML', completeness=completeness)\n",
    "print(as_tmfd)\n",
    "rshalib.mfd.plot_mfds([as_imfd, as_tmfd], labels=['Observed', 'GR fit'])"
   ]
  },
  {
   "cell_type": "markdown",
   "metadata": {},
   "source": [
    " Note that b-value is similar to that of the full catalog!"
   ]
  },
  {
   "cell_type": "code",
   "execution_count": null,
   "metadata": {},
   "outputs": [],
   "source": [
    "b_value = as_tmfd.b_val\n",
    "gr_omlaw = omlaw2.to_gr_omori_law(b_value)"
   ]
  },
  {
   "cell_type": "code",
   "execution_count": null,
   "metadata": {},
   "outputs": [],
   "source": [
    "gr_omlaw.K"
   ]
  },
  {
   "cell_type": "markdown",
   "metadata": {},
   "source": [
    "Now we can compute probabilities for higher Mc, simply by changing the Mc property of the Base10GROmoriLaw instance"
   ]
  },
  {
   "cell_type": "code",
   "execution_count": null,
   "metadata": {},
   "outputs": [],
   "source": [
    "gr_omlaw.Mc = 4.5\n",
    "gr_omlaw.K"
   ]
  },
  {
   "cell_type": "code",
   "execution_count": null,
   "metadata": {},
   "outputs": [],
   "source": [
    "start_time = 13\n",
    "end_time = start_time + 30\n",
    "gr_omlaw.get_prob_one_or_more_aftershocks(end_time, start_time)"
   ]
  },
  {
   "cell_type": "markdown",
   "metadata": {},
   "source": [
    "Let's compare this to the background probability, derived from the catalog MFD"
   ]
  },
  {
   "cell_type": "code",
   "execution_count": null,
   "metadata": {},
   "outputs": [],
   "source": [
    "tau = cat_tmfd.get_return_periods()[cat_tmfd.get_magnitude_index(gr_omlaw.Mc)]\n",
    "tau *= 365\n",
    "print(tau)"
   ]
  },
  {
   "cell_type": "markdown",
   "metadata": {},
   "source": [
    "Over the entire area covered by the catalog:"
   ]
  },
  {
   "cell_type": "code",
   "execution_count": null,
   "metadata": {},
   "outputs": [],
   "source": [
    "poisson_tau = rshalib.poisson.PoissonTau(tau)\n",
    "poisson_tau.get_prob_one_or_more(30)"
   ]
  },
  {
   "cell_type": "markdown",
   "metadata": {},
   "source": [
    "In the area of the Rott sequence:"
   ]
  },
  {
   "cell_type": "code",
   "execution_count": null,
   "metadata": {},
   "outputs": [],
   "source": [
    "poisson_tau.tau *= area_factor\n",
    "poisson_tau.get_prob_one_or_more(30)"
   ]
  },
  {
   "cell_type": "markdown",
   "metadata": {},
   "source": [
    "So the sequence has indeed increased the probability of larger earthquakes (but this probability will decrease again over time)!"
   ]
  },
  {
   "cell_type": "markdown",
   "metadata": {},
   "source": [
    "What is the probability of an earthquake with $M_L \\geq 2.6$ (mainshock magnitude) based on the first 12 days?"
   ]
  },
  {
   "cell_type": "code",
   "execution_count": null,
   "metadata": {},
   "outputs": [],
   "source": [
    "gr_omlaw2 = omlaw2.to_gr_omori_law(b_value)\n",
    "gr_omlaw2.plot_cumulative(x_values, observed_delta_t=as_time_deltas, xscaling='lin')"
   ]
  },
  {
   "cell_type": "code",
   "execution_count": null,
   "metadata": {},
   "outputs": [],
   "source": [
    "gr_omlaw2.Mc = Mm\n",
    "start_time = 12\n",
    "end_time = start_time + 30\n",
    "gr_omlaw2.get_prob_one_or_more_aftershocks(end_time, start_time)"
   ]
  },
  {
   "cell_type": "markdown",
   "metadata": {},
   "source": [
    "If we assume that the 1911 Eifel sequence (mainshock magnitude $M_L=4.5$) did have the same productivity, what is its duration for $M_L \\geq 2.0$ aftershocks?"
   ]
  },
  {
   "cell_type": "code",
   "execution_count": null,
   "metadata": {},
   "outputs": [],
   "source": [
    "gr_omlaw2.Mm = 4.5\n",
    "gr_omlaw2.Mc = 2.0"
   ]
  },
  {
   "cell_type": "code",
   "execution_count": null,
   "metadata": {},
   "outputs": [],
   "source": [
    "background_rate = cat_tmfd.get_cumulative_rates()[cat_tmfd.get_magnitude_index(gr_omlaw.Mc)]\n",
    "background_rate /= (365. * area_factor)\n",
    "background_rate"
   ]
  },
  {
   "cell_type": "code",
   "execution_count": null,
   "metadata": {},
   "outputs": [],
   "source": [
    "duration = gr_omlaw.get_aftershock_duration(background_rate) / 365.\n",
    "print('Duration: %.2f years' % duration)"
   ]
  },
  {
   "cell_type": "markdown",
   "metadata": {},
   "source": [
    "### Random simulation"
   ]
  },
  {
   "cell_type": "markdown",
   "metadata": {},
   "source": [
    "We can also simulate aftershock sequences or their properties"
   ]
  },
  {
   "cell_type": "code",
   "execution_count": null,
   "metadata": {},
   "outputs": [],
   "source": [
    "start_time = 13\n",
    "end_time = start_time + 30\n",
    "num_samples = 100\n",
    "gr_omlaw.get_random_num_aftershocks(end_time, start_time, num_samples)"
   ]
  },
  {
   "cell_type": "code",
   "execution_count": null,
   "metadata": {},
   "outputs": [],
   "source": [
    "gr_omlaw.Mc = 2\n",
    "gr_omlaw.get_random_num_aftershocks(end_time, start_time, num_samples)"
   ]
  },
  {
   "cell_type": "code",
   "execution_count": null,
   "metadata": {},
   "outputs": [],
   "source": [
    "duration = 100\n",
    "gr_omlaw.get_random_time_deltas(duration)"
   ]
  },
  {
   "cell_type": "code",
   "execution_count": null,
   "metadata": {},
   "outputs": [],
   "source": [
    "num_samples = 20\n",
    "gr_omlaw.get_random_magnitudes(num_samples)"
   ]
  },
  {
   "cell_type": "code",
   "execution_count": null,
   "metadata": {},
   "outputs": [],
   "source": [
    "duration = 100\n",
    "Mmax = 6.0\n",
    "for event in gr_omlaw.gen_aftershock_sequence(duration, etas=True, Mmax=Mmax):\n",
    "    (delta_time, magnitude, index, parent_index) = event\n",
    "    print('dt=%.2f days, M=%.2f, i=%d, parent=%d' % event)"
   ]
  },
  {
   "cell_type": "code",
   "execution_count": null,
   "metadata": {},
   "outputs": [],
   "source": [
    "gr_omlaw.Mc = 0.7\n",
    "syncat = gr_omlaw.gen_aftershock_catalog(duration, mainshock=mainshock, etas=False, Mmax=Mmax)\n",
    "syncat.print_list()"
   ]
  },
  {
   "cell_type": "code",
   "execution_count": null,
   "metadata": {},
   "outputs": [],
   "source": []
  }
 ],
 "metadata": {
  "kernelspec": {
   "display_name": "Python [conda env:py3]",
   "language": "python",
   "name": "conda-env-py3-py"
  },
  "language_info": {
   "codemirror_mode": {
    "name": "ipython",
    "version": 3
   },
   "file_extension": ".py",
   "mimetype": "text/x-python",
   "name": "python",
   "nbconvert_exporter": "python",
   "pygments_lexer": "ipython3",
   "version": "3.7.1"
  }
 },
 "nbformat": 4,
 "nbformat_minor": 4
}
