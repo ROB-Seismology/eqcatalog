{
 "cells": [
  {
   "cell_type": "code",
   "execution_count": 1,
   "metadata": {},
   "outputs": [],
   "source": [
    "from IPython.core.display import display, HTML\n",
    "from ipywidgets import interact, interactive, fixed, interact_manual\n",
    "import ipywidgets as widgets"
   ]
  },
  {
   "cell_type": "code",
   "execution_count": 2,
   "metadata": {},
   "outputs": [],
   "source": [
    "import datetime\n",
    "import mapping.layeredbasemap as lbm\n",
    "import eqcatalog\n",
    "from eqcatalog.macro import (aggregate_traditional_macro_info,\n",
    "                             aggregate_online_macro_info, get_isoseismal_macro_info)"
   ]
  },
  {
   "cell_type": "code",
   "execution_count": 3,
   "metadata": {},
   "outputs": [],
   "source": [
    "enq_type_selector = widgets.Dropdown(\n",
    "    options=[('DYFI', 'dyfi'), ('Traditional', 'traditional'), ('Isoseismal', 'isoseismal')],\n",
    "    value='traditional',\n",
    "    description='Enq. type:',\n",
    "    disabled=False,\n",
    ")\n",
    "#display(enq_type_selector)"
   ]
  },
  {
   "cell_type": "code",
   "execution_count": 4,
   "metadata": {},
   "outputs": [],
   "source": [
    "eqid_selector = widgets.IntText(\n",
    "    value=1306,\n",
    "    description='Event ID:',\n",
    "    disabled=False\n",
    ")\n",
    "#display(eqid_selector)"
   ]
  },
  {
   "cell_type": "code",
   "execution_count": 5,
   "metadata": {},
   "outputs": [],
   "source": [
    "agg_by_selector = widgets.Dropdown(\n",
    "    options=[('No aggregation', ''), ('Commune', 'id_com'), ('Main commune', 'id_main'),\n",
    "             ('Grid (5km)', 'grid_5')],\n",
    "    value='id_main',\n",
    "    description='Aggregate by:',\n",
    "    disabled=False,\n",
    ")\n",
    "#display(agg_by_selector)"
   ]
  },
  {
   "cell_type": "code",
   "execution_count": 6,
   "metadata": {},
   "outputs": [],
   "source": [
    "color_gradient_selector = widgets.Dropdown(\n",
    "    options=['discrete', 'continuous'],\n",
    "    value='discrete',\n",
    "    description='Color gradient:',\n",
    "    disabled=False,\n",
    ")\n",
    "#display(color_gradient_selector)"
   ]
  },
  {
   "cell_type": "code",
   "execution_count": 7,
   "metadata": {},
   "outputs": [],
   "source": [
    "cmap_selector = widgets.Dropdown(\n",
    "    options=['rob', 'usgs'],\n",
    "    value='rob',\n",
    "    description='Color map:',\n",
    "    disabled=False,\n",
    ")\n",
    "#display(cmap_selector)"
   ]
  },
  {
   "cell_type": "code",
   "execution_count": 8,
   "metadata": {},
   "outputs": [],
   "source": [
    "lon_slider = widgets.FloatRangeSlider(\n",
    "    value=[2.4, 6.6],\n",
    "    min=-1.,\n",
    "    max=9.,\n",
    "    step=0.1,\n",
    "    description='Lon range:',\n",
    "    disabled=False,\n",
    "    continuous_update=False,\n",
    "    orientation='horizontal',\n",
    "    readout=True,\n",
    "    readout_format='.1f',\n",
    ")"
   ]
  },
  {
   "cell_type": "code",
   "execution_count": 9,
   "metadata": {},
   "outputs": [],
   "source": [
    "lat_slider = widgets.FloatRangeSlider(\n",
    "    value=[49.4, 51.8],\n",
    "    min=48.,\n",
    "    max=53.,\n",
    "    step=0.1,\n",
    "    description='Lat range:',\n",
    "    disabled=False,\n",
    "    continuous_update=False,\n",
    "    orientation='horizontal',\n",
    "    readout=True,\n",
    "    readout_format='.1f',\n",
    ")"
   ]
  },
  {
   "cell_type": "code",
   "execution_count": 10,
   "metadata": {},
   "outputs": [],
   "source": [
    "date_slider = widgets.IntRangeSlider(\n",
    "    value=[1910, 2020],\n",
    "    min=1350,\n",
    "    max=2020,\n",
    "    step=1,\n",
    "    description='Year range:',\n",
    "    disabled=False,\n",
    "    continuous_update=False,\n",
    "    orientation='horizontal',\n",
    "    readout=True,\n",
    "    readout_format='d',\n",
    ")\n",
    "#display(date_slider)"
   ]
  },
  {
   "cell_type": "code",
   "execution_count": 11,
   "metadata": {},
   "outputs": [],
   "source": [
    "start_date_picker = widgets.DatePicker(\n",
    "    value=datetime.date(1985, 1, 1),\n",
    "    description='Start date:',\n",
    "    disabled=False\n",
    ")\n",
    "#display(start_date_picker)"
   ]
  },
  {
   "cell_type": "code",
   "execution_count": 12,
   "metadata": {},
   "outputs": [],
   "source": [
    "end_date_picker = widgets.DatePicker(\n",
    "    value = datetime.date.today(),\n",
    "    description='End date:',\n",
    "    disabled=False\n",
    ")\n",
    "#display(end_date_picker)"
   ]
  },
  {
   "cell_type": "code",
   "execution_count": 13,
   "metadata": {},
   "outputs": [],
   "source": [
    "mag_slider = widgets.FloatRangeSlider(\n",
    "    value=[2., 7.0],\n",
    "    min=-1.,\n",
    "    max=7.0,\n",
    "    step=0.1,\n",
    "    description='Magnitude:',\n",
    "    disabled=False,\n",
    "    continuous_update=False,\n",
    "    orientation='horizontal',\n",
    "    readout=True,\n",
    "    readout_format='.1f',\n",
    ")\n",
    "#display(mag_slider)"
   ]
  },
  {
   "cell_type": "code",
   "execution_count": 14,
   "metadata": {},
   "outputs": [],
   "source": [
    "depth_slider = widgets.IntRangeSlider(\n",
    "    value=[0, 50],\n",
    "    min=0,\n",
    "    max=50,\n",
    "    step=1,\n",
    "    description='Depth range:',\n",
    "    disabled=False,\n",
    "    continuous_update=False,\n",
    "    orientation='horizontal',\n",
    "    readout=True,\n",
    "    readout_format='d',\n",
    ")\n",
    "#display(depth_slider)"
   ]
  },
  {
   "cell_type": "code",
   "execution_count": 15,
   "metadata": {},
   "outputs": [],
   "source": [
    "etype_selector = widgets.SelectMultiple(\n",
    "    options=[('Earthquake', 'ke'),\n",
    "            ('Suspected earthquake', 'se'),\n",
    "            ('Induced event', 'ki'),\n",
    "            ('Suspected induced event', 'si'),\n",
    "            ('Quarry blast', 'qb'),\n",
    "            ('Suspected quarry blast', 'sqb'),\n",
    "            ('Controlled explosion', 'cb'),\n",
    "            ('Suspected controlled explosion', 'scb'),\n",
    "            ('Mine explosion', 'km'),\n",
    "            ('Suspected mine explosion', 'sm')],\n",
    "    value=['ke'],\n",
    "    #rows=10,\n",
    "    description='Event type:',\n",
    "    disabled=False\n",
    ")\n",
    "#display(etype_selector)"
   ]
  },
  {
   "cell_type": "code",
   "execution_count": 16,
   "metadata": {},
   "outputs": [],
   "source": [
    "plot_type_selector = widgets.Dropdown(\n",
    "    options=['basemap', 'folium'],\n",
    "    value='folium',\n",
    "    description='Plot type:',\n",
    "    disabled=False,\n",
    ")\n",
    "#display(plot_type_selector)"
   ]
  },
  {
   "cell_type": "code",
   "execution_count": 17,
   "metadata": {},
   "outputs": [],
   "source": [
    "def plot_macro_map(id_earth, enq_type, aggregate_by,\n",
    "                   color_gradient, cmap,\n",
    "                   lon_range, lat_range):\n",
    "    ## Step 1: aggregate\n",
    "    min_fiability = 80\n",
    "    if enq_type == 'dyfi':\n",
    "        min_replies = 3\n",
    "        query_info = 'cii'\n",
    "        filter_floors = (0, 4)\n",
    "        agg_method = 'mean'\n",
    "        fix_records = True\n",
    "        include_other_felt = True\n",
    "        include_heavy_appliance = False\n",
    "        remove_outliers = (0, 100)\n",
    "        macro_info = aggregate_online_macro_info(id_earth, min_replies=min_replies,\n",
    "                                query_info=query_info, min_fiability=min_fiability,\n",
    "                                filter_floors=filter_floors, aggregate_by=aggregate_by,\n",
    "                                agg_method=agg_method, fix_records=fix_records,\n",
    "                                include_other_felt=include_other_felt,\n",
    "                                include_heavy_appliance=include_heavy_appliance,\n",
    "                                remove_outliers=remove_outliers)\n",
    "    elif enq_type == 'isoseismal' and aggregate_by in ('id_com', 'id_main'):\n",
    "        main_communes = {'id_main': True, 'id_com': False}[aggregate_by]\n",
    "        macro_info = get_isoseismal_macro_info(id_earth, main_communes=main_communes,\n",
    "                                                as_points=True)\n",
    "    else:\n",
    "        Imin_or_max = 'max'\n",
    "        agg_subcommunes = 'mean'\n",
    "        if enq_type == 'traditional':\n",
    "            data_type = ''\n",
    "        else:\n",
    "            data_type = enq_type\n",
    "        macro_info = aggregate_traditional_macro_info(id_earth, data_type=data_type,\n",
    "                                min_fiability=min_fiability, Imin_or_max=Imin_or_max,\n",
    "                                aggregate_by=aggregate_by, agg_method=agg_subcommunes)\n",
    "\n",
    "    ## Step 2: plot\n",
    "    if macro_info:\n",
    "        plot_info = 'intensity'\n",
    "        colorbar_style = \"default\"\n",
    "        region = lon_range + lat_range\n",
    "        projection = \"merc\"\n",
    "        graticule_interval = (2, 1)\n",
    "        symbol_style = None\n",
    "        line_style = 'default'\n",
    "        thematic_num_replies = False\n",
    "        interpolate_grid = {}\n",
    "        plot_pie = {}\n",
    "        title =''\n",
    "        copyright = ''\n",
    "        text = macro_info.get_proc_info_text()\n",
    "        text_box = {'pos': 'bl', 'text': text}\n",
    "        map = macro_info.plot_map(region=region, projection=projection,\n",
    "                    graticule_interval=graticule_interval, plot_info=plot_info,\n",
    "                    int_conversion='round', symbol_style=symbol_style,\n",
    "                    line_style=line_style, thematic_num_replies=thematic_num_replies,\n",
    "                    interpolate_grid=interpolate_grid, cmap=cmap,\n",
    "                    color_gradient=color_gradient, admin_level='auto', admin_source='statbel',\n",
    "                    colorbar_style=colorbar_style, radii=[], plot_pie=plot_pie,\n",
    "                    title=title, fig_filespec=None, copyright=copyright,\n",
    "                    text_box=text_box, dpi=90, verbose=True)\n",
    "    else:\n",
    "        print('No macroseismic information available!')"
   ]
  },
  {
   "cell_type": "code",
   "execution_count": 18,
   "metadata": {},
   "outputs": [
    {
     "data": {
      "application/vnd.jupyter.widget-view+json": {
       "model_id": "e3c0c1646c6347dfaae9e0e086c8a329",
       "version_major": 2,
       "version_minor": 0
      },
      "text/plain": [
       "interactive(children=(IntText(value=1306, description='Event ID:'), Dropdown(description='Enq. type:', index=1…"
      ]
     },
     "metadata": {},
     "output_type": "display_data"
    }
   ],
   "source": [
    "interactive_plot = interactive(plot_macro_map,\n",
    "                               id_earth=eqid_selector,\n",
    "                               enq_type=enq_type_selector,\n",
    "                               aggregate_by=agg_by_selector,\n",
    "                               color_gradient=color_gradient_selector,\n",
    "                               cmap=cmap_selector,\n",
    "                               lon_range=lon_slider, lat_range=lat_slider)\n",
    "#output = interactive_plot.children[-1]\n",
    "#output.layout.height = '350px'\n",
    "interactive_plot"
   ]
  }
 ],
 "metadata": {
  "kernelspec": {
   "display_name": "Python [conda env:py3]",
   "language": "python",
   "name": "conda-env-py3-py"
  },
  "language_info": {
   "codemirror_mode": {
    "name": "ipython",
    "version": 3
   },
   "file_extension": ".py",
   "mimetype": "text/x-python",
   "name": "python",
   "nbconvert_exporter": "python",
   "pygments_lexer": "ipython3",
   "version": "3.7.1"
  }
 },
 "nbformat": 4,
 "nbformat_minor": 4
}
