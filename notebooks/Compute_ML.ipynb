{
 "cells": [
  {
   "cell_type": "code",
   "execution_count": 1,
   "metadata": {},
   "outputs": [],
   "source": [
    "import robspy"
   ]
  },
  {
   "cell_type": "markdown",
   "metadata": {},
   "source": [
    "## Compute ML for SeisComP event"
   ]
  },
  {
   "cell_type": "code",
   "execution_count": 2,
   "metadata": {},
   "outputs": [],
   "source": [
    "event_id = 'be2020yykb'"
   ]
  },
  {
   "cell_type": "code",
   "execution_count": 4,
   "metadata": {},
   "outputs": [
    {
     "name": "stdout",
     "output_type": "stream",
     "text": [
      "GB.LMK: skipped, station may be unknown\n",
      "GB.WACR: Amax=131.8 nm, d=133.9 km, ML=2.81\n",
      "GB.HPK: Amax=220.0 nm, d=190.9 km, ML=3.23\n",
      "GB.LBWR: skipped, station may be unknown\n",
      "GB.CWF: Amax=110.2 nm, d=212.9 km, ML=2.99\n",
      "GB.STNC: Amax=167.5 nm, d=246.7 km, ML=3.26\n",
      "GB.ELSH: Amax=28.9 nm, d=302.3 km, ML=2.64\n",
      "BE.BOST: Amax=29.0 nm, d=313.1 km, ML=2.67\n",
      "BE.DOU: Amax=12.9 nm, d=477.2 km, ML=2.65\n",
      "BE.DSLB: Amax=16.3 nm, d=389.6 km, ML=2.58\n",
      "BE.LES: Amax=25.5 nm, d=392.0 km, ML=2.78\n",
      "GB.SWN1: Amax=1249.8 nm, d=334.1 km, ML=4.35\n",
      "BE.SKQ: Amax=19.0 nm, d=405.6 km, ML=2.68\n",
      "No data found for requested time in station BE.TNL!\n",
      "BE.RCHB: Amax=11.2 nm, d=493.6 km, ML=2.62\n",
      "BE.MRG: Amax=8.4 nm, d=496.6 km, ML=2.50\n",
      "ML: 2.78 +/- 0.24 (n=12/13)\n"
     ]
    },
    {
     "data": {
      "text/plain": [
       "(2.7830666171300726, 0.23837753683963997)"
      ]
     },
     "execution_count": 4,
     "metadata": {},
     "output_type": "execute_result"
    }
   ],
   "source": [
    "robspy.rob.calc_event_ML.calc_seiscomp_event_ML(event_id)"
   ]
  },
  {
   "cell_type": "markdown",
   "metadata": {},
   "source": [
    "## Recompute ML for event in ROB database"
   ]
  },
  {
   "cell_type": "code",
   "execution_count": 5,
   "metadata": {},
   "outputs": [],
   "source": [
    "id_earth = 'pgm9grv2d'"
   ]
  },
  {
   "cell_type": "markdown",
   "metadata": {},
   "source": [
    "### Using amplitude data in the database"
   ]
  },
  {
   "cell_type": "code",
   "execution_count": 7,
   "metadata": {},
   "outputs": [
    {
     "name": "stdout",
     "output_type": "stream",
     "text": [
      "EBN: Amax=93.0 nm, d=18.5 km, ML=1.82\n",
      "MRG: Amax=14.3 nm, d=36.7 km, ML=1.27\n",
      "CLA: Amax=10.5 nm, d=51.3 km, ML=1.27\n",
      "GES: Amax=5.6 nm, d=64.6 km, ML=1.10\n",
      "KLB: Amax=6.2 nm, d=76.5 km, ML=1.22\n",
      "DSLB: Amax=3.3 nm, d=75.7 km, ML=0.94\n",
      "VIA: Amax=17.4 nm, d=95.6 km, ML=1.77\n",
      "DOU: Amax=3.9 nm, d=111.3 km, ML=1.19\n",
      "LCH: Amax=15.1 nm, d=23.0 km, ML=1.11\n",
      "MEMH: Amax=9.2 nm, d=27.0 km, ML=0.95\n",
      "HOU: Amax=16.2 nm, d=48.5 km, ML=1.44\n",
      "LES: Amax=3.6 nm, d=137.1 km, ML=1.26\n",
      "TNL: Amax=14.0 nm, d=34.2 km, ML=1.23\n",
      "ML: 1.23 +/- 0.21 (n=12/13)\n"
     ]
    },
    {
     "data": {
      "text/plain": [
       "(1.2298411803219547, 0.20977297728429206)"
      ]
     },
     "execution_count": 7,
     "metadata": {},
     "output_type": "execute_result"
    }
   ],
   "source": [
    "robspy.rob.calc_event_ML.calc_rob_event_ML_from_db(id_earth)"
   ]
  },
  {
   "cell_type": "markdown",
   "metadata": {},
   "source": [
    "### Using waveform data"
   ]
  },
  {
   "cell_type": "code",
   "execution_count": 6,
   "metadata": {},
   "outputs": [
    {
     "name": "stdout",
     "output_type": "stream",
     "text": [
      "BE.BEBN: Amax=91.1 nm, d=18.5 km, ML=1.81\n",
      "BE.MEMS: Amax=12.5 nm, d=27.0 km, ML=1.09\n",
      "No data found for requested time in station DBN.VKB!\n",
      "DBN.VKB: skipped, station may be unknown\n",
      "BE.MRG: Amax=15.6 nm, d=36.7 km, ML=1.31\n",
      "BE.CLA: Amax=10.5 nm, d=51.3 km, ML=1.27\n",
      "BE.GES: Amax=8.5 nm, d=64.6 km, ML=1.28\n",
      "BE.KLB: Amax=6.4 nm, d=76.5 km, ML=1.23\n",
      "BE.RCHB: Amax=5.6 nm, d=77.2 km, ML=1.18\n",
      "BE.DSLB: Amax=6.1 nm, d=75.7 km, ML=1.21\n",
      "BE.VIA: Amax=17.2 nm, d=95.6 km, ML=1.76\n",
      "BE.DOU: Amax=4.5 nm, d=111.3 km, ML=1.25\n",
      "No data found for requested time in station DBN.HGN!\n",
      "DBN.HGN: skipped, station may be unknown\n",
      "BE.LCH: Amax=16.1 nm, d=23.0 km, ML=1.14\n",
      "BE.MEM: Amax=12.0 nm, d=27.0 km, ML=1.07\n",
      "BE.OPTB: Amax=11.7 nm, d=45.4 km, ML=1.27\n",
      "BE.HOU: Amax=16.2 nm, d=48.5 km, ML=1.44\n",
      "BE.MRD: Amax=7.9 nm, d=87.7 km, ML=1.39\n",
      "BE.TGA: Amax=10.5 nm, d=91.0 km, ML=1.53\n",
      "BE.LES: Amax=7.3 nm, d=137.1 km, ML=1.56\n",
      "BE.SKQ: Amax=6.3 nm, d=121.0 km, ML=1.44\n",
      "BE.STI: Amax=10.5 nm, d=27.9 km, ML=1.02\n"
     ]
    },
    {
     "name": "stderr",
     "output_type": "stream",
     "text": [
      "C:\\Miniconda3\\envs\\py3\\lib\\site-packages\\obspy\\clients\\arclink\\__init__.py:178: ObsPyDeprecationWarning: The ArcLink protocol will be deprecated in the near future. Please, use the client contacting the routing service provided by EIDA: https://docs.obspy.org/packages/obspy.clients.fdsn.html#basic-routing-clients-usage\n",
      "  warnings.warn(msg, category=ObsPyDeprecationWarning)\n"
     ]
    },
    {
     "name": "stdout",
     "output_type": "stream",
     "text": [
      "BE.TNL: Amax=14.1 nm, d=34.2 km, ML=1.23\n",
      "GE.WLF: Amax=7.2 nm, d=123.4 km, ML=1.51\n",
      "ML: 1.29 +/- 0.15 (n=19/21)\n"
     ]
    },
    {
     "data": {
      "text/plain": [
       "(1.2854641859945406, 0.15295370739372188)"
      ]
     },
     "execution_count": 6,
     "metadata": {},
     "output_type": "execute_result"
    }
   ],
   "source": [
    "robspy.rob.calc_event_ML.calc_rob_event_ML_from_wf(id_earth)"
   ]
  },
  {
   "cell_type": "code",
   "execution_count": null,
   "metadata": {},
   "outputs": [],
   "source": []
  }
 ],
 "metadata": {
  "kernelspec": {
   "display_name": "Python [conda env:py3]",
   "language": "python",
   "name": "conda-env-py3-py"
  },
  "language_info": {
   "codemirror_mode": {
    "name": "ipython",
    "version": 3
   },
   "file_extension": ".py",
   "mimetype": "text/x-python",
   "name": "python",
   "nbconvert_exporter": "python",
   "pygments_lexer": "ipython3",
   "version": "3.7.1"
  }
 },
 "nbformat": 4,
 "nbformat_minor": 4
}
