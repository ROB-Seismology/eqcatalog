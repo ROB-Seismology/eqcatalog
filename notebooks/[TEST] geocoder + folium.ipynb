{
 "cells": [
  {
   "cell_type": "code",
   "execution_count": 1,
   "metadata": {},
   "outputs": [],
   "source": [
    "import geocoder\n",
    "import folium"
   ]
  },
  {
   "cell_type": "code",
   "execution_count": 2,
   "metadata": {},
   "outputs": [],
   "source": [
    "#address = \"Visserij 161/F, 9000 Gent, BE\"\n",
    "#address = \"Ringlaan 3, 1180 Ukkel, BE\"\n",
    "#address = \"Ketellappersstraat, 3950 Bocholt, BE\"\n",
    "#address = \"Kanaalstraat, 3983 Lommel, BE\"\n",
    "address = \"Reppelerweg 34, 3950 Bree, Be\"\n",
    "bbox = [0, 48, 10, 52]"
   ]
  },
  {
   "cell_type": "code",
   "execution_count": 3,
   "metadata": {},
   "outputs": [],
   "source": [
    "provider = \"ArcGIS\"\n",
    "#provider = \"osm\"\n",
    "#provider = \"mapquest\"\n",
    "#provider = \"here\"\n",
    "from secrets.here_api_key import app_id, app_code\n",
    "loc = geocoder.get(address, provider=provider, proximity=bbox, app_id=app_id, app_code=app_code)"
   ]
  },
  {
   "cell_type": "code",
   "execution_count": 4,
   "metadata": {},
   "outputs": [
    {
     "name": "stdout",
     "output_type": "stream",
     "text": [
      "True\n",
      "(5.576685423250118, 51.169820563419705)\n",
      "PointAddress\n",
      "Reppelerweg 34, 3950, Bocholt\n",
      "\n",
      "{'northeast': [51.170824, 5.577598000000019], 'southwest': [51.16882400000001, 5.575598000000018]}\n",
      "9\n"
     ]
    }
   ],
   "source": [
    "print(loc.ok)\n",
    "print(loc.lng, loc.lat)\n",
    "print(loc.quality)\n",
    "print(loc.address)\n",
    "print(loc.country)\n",
    "print(loc.bbox)\n",
    "print(loc.confidence)"
   ]
  },
  {
   "cell_type": "code",
   "execution_count": 5,
   "metadata": {},
   "outputs": [
    {
     "name": "stdout",
     "output_type": "stream",
     "text": [
      "\n",
      "\n",
      "From provider\n",
      "\n",
      "-----------\n",
      "\n",
      "{\n",
      "    \"name\": \"Reppelerweg 34, 3950, Bocholt\", \n",
      "    \"extent\": {\n",
      "        \"xmin\": 5.575598000000018, \n",
      "        \"ymin\": 51.16882400000001, \n",
      "        \"ymax\": 51.170824, \n",
      "        \"xmax\": 5.577598000000019\n",
      "    }, \n",
      "    \"feature\": {\n",
      "        \"geometry\": {\n",
      "            \"y\": 51.169820563419705, \n",
      "            \"x\": 5.576685423250118\n",
      "        }, \n",
      "        \"attributes\": {\n",
      "            \"Score\": 98.26, \n",
      "            \"Addr_Type\": \"PointAddress\"\n",
      "        }\n",
      "    }\n",
      "}\n",
      "\n",
      "\n",
      "Cleaned json\n",
      "\n",
      "-----------\n",
      "\n",
      "{\n",
      "    \"status\": \"OK\", \n",
      "    \"confidence\": 9, \n",
      "    \"ok\": true, \n",
      "    \"raw\": {\n",
      "        \"name\": \"Reppelerweg 34, 3950, Bocholt\", \n",
      "        \"extent\": {\n",
      "            \"xmin\": 5.575598000000018, \n",
      "            \"ymin\": 51.16882400000001, \n",
      "            \"ymax\": 51.170824, \n",
      "            \"xmax\": 5.577598000000019\n",
      "        }, \n",
      "        \"feature\": {\n",
      "            \"geometry\": {\n",
      "                \"y\": 51.169820563419705, \n",
      "                \"x\": 5.576685423250118\n",
      "            }, \n",
      "            \"attributes\": {\n",
      "                \"Score\": 98.26, \n",
      "                \"Addr_Type\": \"PointAddress\"\n",
      "            }\n",
      "        }\n",
      "    }, \n",
      "    \"score\": 98.26, \n",
      "    \"bbox\": {\n",
      "        \"northeast\": [\n",
      "            51.170824, \n",
      "            5.577598000000019\n",
      "        ], \n",
      "        \"southwest\": [\n",
      "            51.16882400000001, \n",
      "            5.575598000000018\n",
      "        ]\n",
      "    }, \n",
      "    \"address\": \"Reppelerweg 34, 3950, Bocholt\", \n",
      "    \"lat\": 51.169820563419705, \n",
      "    \"lng\": 5.576685423250118, \n",
      "    \"quality\": \"PointAddress\"\n",
      "}\n",
      "\n",
      "\n",
      "OSM Quality\n",
      "\n",
      "-----------\n",
      "\n",
      "(0/0)\n",
      "\n",
      "\n",
      "\n",
      "Fieldnames\n",
      "\n",
      "----------\n",
      "\n",
      "- [ ] accuracy\n",
      "\n",
      "- [x] address\n",
      "\n",
      "- [x] bbox\n",
      "\n",
      "- [ ] city\n",
      "\n",
      "- [x] confidence\n",
      "\n",
      "- [ ] country\n",
      "\n",
      "- [ ] housenumber\n",
      "\n",
      "- [x] lat\n",
      "\n",
      "- [x] lng\n",
      "\n",
      "- [x] ok\n",
      "\n",
      "- [ ] postal\n",
      "\n",
      "- [x] quality\n",
      "\n",
      "- [x] raw\n",
      "\n",
      "- [x] score\n",
      "\n",
      "- [ ] state\n",
      "\n",
      "- [x] status\n",
      "\n",
      "- [ ] street\n",
      "\n",
      "(10/17)\n",
      "\n",
      "\n",
      "===\n",
      "\n",
      "<[OK] Arcgis - Geocode [Reppelerweg 34, 3950, Bocholt]>\n",
      "===\n",
      "\n",
      "\n",
      "\n",
      "#res: 1\n",
      "\n",
      "code: 200\n",
      "\n",
      "url:  https://geocode.arcgis.com/arcgis/rest/services/World/GeocodeServer/find?text=Reppelerweg+34%2C+3950+Bree%2C+Be&maxLocations=1&f=json\n",
      "\n",
      "\n",
      "\n",
      "Details for result #1\n",
      "\n",
      "---\n",
      "\n",
      "\n"
     ]
    },
    {
     "data": {
      "text/plain": [
       "[[0, 10]]"
      ]
     },
     "execution_count": 5,
     "metadata": {},
     "output_type": "execute_result"
    }
   ],
   "source": [
    "loc.debug()"
   ]
  },
  {
   "cell_type": "code",
   "execution_count": 6,
   "metadata": {},
   "outputs": [
    {
     "data": {
      "text/html": [
       "<div style=\"width:100%;\"><div style=\"position:relative;width:100%;height:0;padding-bottom:60%;\"><iframe src=\"data:text/html;charset=utf-8;base64,PCFET0NUWVBFIGh0bWw+CjxoZWFkPiAgICAKICAgIDxtZXRhIGh0dHAtZXF1aXY9ImNvbnRlbnQtdHlwZSIgY29udGVudD0idGV4dC9odG1sOyBjaGFyc2V0PVVURi04IiAvPgogICAgPHNjcmlwdD5MX1BSRUZFUl9DQU5WQVM9ZmFsc2U7IExfTk9fVE9VQ0g9ZmFsc2U7IExfRElTQUJMRV8zRD1mYWxzZTs8L3NjcmlwdD4KICAgIDxzY3JpcHQgc3JjPSJodHRwczovL2Nkbi5qc2RlbGl2ci5uZXQvbnBtL2xlYWZsZXRAMS4yLjAvZGlzdC9sZWFmbGV0LmpzIj48L3NjcmlwdD4KICAgIDxzY3JpcHQgc3JjPSJodHRwczovL2FqYXguZ29vZ2xlYXBpcy5jb20vYWpheC9saWJzL2pxdWVyeS8xLjExLjEvanF1ZXJ5Lm1pbi5qcyI+PC9zY3JpcHQ+CiAgICA8c2NyaXB0IHNyYz0iaHR0cHM6Ly9tYXhjZG4uYm9vdHN0cmFwY2RuLmNvbS9ib290c3RyYXAvMy4yLjAvanMvYm9vdHN0cmFwLm1pbi5qcyI+PC9zY3JpcHQ+CiAgICA8c2NyaXB0IHNyYz0iaHR0cHM6Ly9jZG5qcy5jbG91ZGZsYXJlLmNvbS9hamF4L2xpYnMvTGVhZmxldC5hd2Vzb21lLW1hcmtlcnMvMi4wLjIvbGVhZmxldC5hd2Vzb21lLW1hcmtlcnMuanMiPjwvc2NyaXB0PgogICAgPGxpbmsgcmVsPSJzdHlsZXNoZWV0IiBocmVmPSJodHRwczovL2Nkbi5qc2RlbGl2ci5uZXQvbnBtL2xlYWZsZXRAMS4yLjAvZGlzdC9sZWFmbGV0LmNzcyIvPgogICAgPGxpbmsgcmVsPSJzdHlsZXNoZWV0IiBocmVmPSJodHRwczovL21heGNkbi5ib290c3RyYXBjZG4uY29tL2Jvb3RzdHJhcC8zLjIuMC9jc3MvYm9vdHN0cmFwLm1pbi5jc3MiLz4KICAgIDxsaW5rIHJlbD0ic3R5bGVzaGVldCIgaHJlZj0iaHR0cHM6Ly9tYXhjZG4uYm9vdHN0cmFwY2RuLmNvbS9ib290c3RyYXAvMy4yLjAvY3NzL2Jvb3RzdHJhcC10aGVtZS5taW4uY3NzIi8+CiAgICA8bGluayByZWw9InN0eWxlc2hlZXQiIGhyZWY9Imh0dHBzOi8vbWF4Y2RuLmJvb3RzdHJhcGNkbi5jb20vZm9udC1hd2Vzb21lLzQuNi4zL2Nzcy9mb250LWF3ZXNvbWUubWluLmNzcyIvPgogICAgPGxpbmsgcmVsPSJzdHlsZXNoZWV0IiBocmVmPSJodHRwczovL2NkbmpzLmNsb3VkZmxhcmUuY29tL2FqYXgvbGlicy9MZWFmbGV0LmF3ZXNvbWUtbWFya2Vycy8yLjAuMi9sZWFmbGV0LmF3ZXNvbWUtbWFya2Vycy5jc3MiLz4KICAgIDxsaW5rIHJlbD0ic3R5bGVzaGVldCIgaHJlZj0iaHR0cHM6Ly9yYXdnaXQuY29tL3B5dGhvbi12aXN1YWxpemF0aW9uL2ZvbGl1bS9tYXN0ZXIvZm9saXVtL3RlbXBsYXRlcy9sZWFmbGV0LmF3ZXNvbWUucm90YXRlLmNzcyIvPgogICAgPHN0eWxlPmh0bWwsIGJvZHkge3dpZHRoOiAxMDAlO2hlaWdodDogMTAwJTttYXJnaW46IDA7cGFkZGluZzogMDt9PC9zdHlsZT4KICAgIDxzdHlsZT4jbWFwIHtwb3NpdGlvbjphYnNvbHV0ZTt0b3A6MDtib3R0b206MDtyaWdodDowO2xlZnQ6MDt9PC9zdHlsZT4KICAgIAogICAgPHN0eWxlPiNtYXBfYzFiMTc0NmJmMWNlNDliN2I1ZDYxODQ3ZTgyYTJiNzkgewogICAgICAgIHBvc2l0aW9uOiByZWxhdGl2ZTsKICAgICAgICB3aWR0aDogMTAwLjAlOwogICAgICAgIGhlaWdodDogMTAwLjAlOwogICAgICAgIGxlZnQ6IDAuMCU7CiAgICAgICAgdG9wOiAwLjAlOwogICAgICAgIH0KICAgIDwvc3R5bGU+CjwvaGVhZD4KPGJvZHk+ICAgIAogICAgCiAgICA8ZGl2IGNsYXNzPSJmb2xpdW0tbWFwIiBpZD0ibWFwX2MxYjE3NDZiZjFjZTQ5YjdiNWQ2MTg0N2U4MmEyYjc5IiA+PC9kaXY+CjwvYm9keT4KPHNjcmlwdD4gICAgCiAgICAKICAgIAogICAgICAgIHZhciBib3VuZHMgPSBudWxsOwogICAgCgogICAgdmFyIG1hcF9jMWIxNzQ2YmYxY2U0OWI3YjVkNjE4NDdlODJhMmI3OSA9IEwubWFwKAogICAgICAgICdtYXBfYzFiMTc0NmJmMWNlNDliN2I1ZDYxODQ3ZTgyYTJiNzknLCB7CiAgICAgICAgY2VudGVyOiBbNTEuMTY5ODIwNTYzNCwgNS41NzY2ODU0MjMyNV0sCiAgICAgICAgem9vbTogMTYsCiAgICAgICAgbWF4Qm91bmRzOiBib3VuZHMsCiAgICAgICAgbGF5ZXJzOiBbXSwKICAgICAgICB3b3JsZENvcHlKdW1wOiBmYWxzZSwKICAgICAgICBjcnM6IEwuQ1JTLkVQU0czODU3LAogICAgICAgIHpvb21Db250cm9sOiB0cnVlLAogICAgICAgIH0pOwoKICAgIAogICAgCiAgICB2YXIgdGlsZV9sYXllcl8wYTA0MWJjNzRiZjE0Zjc4YWUwZDU1MDE0Mzc4MDlhMiA9IEwudGlsZUxheWVyKAogICAgICAgICdodHRwczovL3tzfS50aWxlLm9wZW5zdHJlZXRtYXAub3JnL3t6fS97eH0ve3l9LnBuZycsCiAgICAgICAgewogICAgICAgICJhdHRyaWJ1dGlvbiI6IG51bGwsIAogICAgICAgICJkZXRlY3RSZXRpbmEiOiBmYWxzZSwgCiAgICAgICAgIm1heE5hdGl2ZVpvb20iOiAxOCwgCiAgICAgICAgIm1heFpvb20iOiAxOCwgCiAgICAgICAgIm1pblpvb20iOiAwLCAKICAgICAgICAibm9XcmFwIjogZmFsc2UsIAogICAgICAgICJzdWJkb21haW5zIjogImFiYyIKfSkuYWRkVG8obWFwX2MxYjE3NDZiZjFjZTQ5YjdiNWQ2MTg0N2U4MmEyYjc5KTsKICAgIAoKICAgICAgICAgICAgdmFyIHJlY3RhbmdsZV82OWFkMzc2Y2RkNDc0YTAxOTg5ZjExNjEzN2Q1OWY5ZCA9IEwucmVjdGFuZ2xlKAogICAgICAgICAgICAgICAgW1s1MS4xNjg4MjQwMDAwMDAwMSwgNS41NzU1OTgwMDAwMDAwMThdLCBbNTEuMTcwODI0LCA1LjU3NzU5ODAwMDAwMDAxOV1dLAogICAgICAgICAgICAgICAgewogICJidWJibGluZ01vdXNlRXZlbnRzIjogdHJ1ZSwgCiAgImNvbG9yIjogIiMzMzg4ZmYiLCAKICAiZGFzaEFycmF5IjogbnVsbCwgCiAgImRhc2hPZmZzZXQiOiBudWxsLCAKICAiZmlsbCI6IGZhbHNlLCAKICAiZmlsbENvbG9yIjogIiMzMzg4ZmYiLCAKICAiZmlsbE9wYWNpdHkiOiAwLjIsIAogICJmaWxsUnVsZSI6ICJldmVub2RkIiwgCiAgImxpbmVDYXAiOiAicm91bmQiLCAKICAibGluZUpvaW4iOiAicm91bmQiLCAKICAibm9DbGlwIjogZmFsc2UsIAogICJvcGFjaXR5IjogMS4wLCAKICAic21vb3RoRmFjdG9yIjogMS4wLCAKICAic3Ryb2tlIjogdHJ1ZSwgCiAgIndlaWdodCI6IDMKfQogICAgICAgICAgICAgICAgKQogICAgICAgICAgICAgICAgLmFkZFRvKG1hcF9jMWIxNzQ2YmYxY2U0OWI3YjVkNjE4NDdlODJhMmI3OSk7CiAgICAgICAgICAgIAogICAgCiAgICAgICAgdmFyIG1hcmtlcl83YWI5MTdhNjVlOTg0ZThlYTRhNmMwNGFmYzA4ZWQ5NSA9IEwubWFya2VyKAogICAgICAgICAgICBbNTEuMTY5ODIwNTYzNCwgNS41NzY2ODU0MjMyNV0sCiAgICAgICAgICAgIHsKICAgICAgICAgICAgICAgIGljb246IG5ldyBMLkljb24uRGVmYXVsdCgpCiAgICAgICAgICAgICAgICB9CiAgICAgICAgICAgICkuYWRkVG8obWFwX2MxYjE3NDZiZjFjZTQ5YjdiNWQ2MTg0N2U4MmEyYjc5KTsKICAgICAgICAKPC9zY3JpcHQ+\" style=\"position:absolute;width:100%;height:100%;left:0;top:0;border:none !important;\" allowfullscreen webkitallowfullscreen mozallowfullscreen></iframe></div></div>"
      ],
      "text/plain": [
       "<folium.folium.Map at 0xa0007b8>"
      ]
     },
     "execution_count": 6,
     "metadata": {},
     "output_type": "execute_result"
    }
   ],
   "source": [
    "location = loc.latlng\n",
    "m = folium.Map(location=location, zoom_start=16)\n",
    "bounds = [loc.bbox['southwest'], loc.bbox['northeast']]\n",
    "folium.Rectangle(bounds).add_to(m)\n",
    "folium.Marker(location).add_to(m)\n",
    "m"
   ]
  }
 ],
 "metadata": {
  "kernelspec": {
   "display_name": "Python 2",
   "language": "python",
   "name": "python2"
  },
  "language_info": {
   "codemirror_mode": {
    "name": "ipython",
    "version": 2
   },
   "file_extension": ".py",
   "mimetype": "text/x-python",
   "name": "python",
   "nbconvert_exporter": "python",
   "pygments_lexer": "ipython2",
   "version": "2.7.15"
  }
 },
 "nbformat": 4,
 "nbformat_minor": 2
}
