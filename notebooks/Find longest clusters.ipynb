{
 "cells": [
  {
   "cell_type": "markdown",
   "metadata": {},
   "source": [
    "Find the most important earthquake clusters in the ROB catalog since 1985"
   ]
  },
  {
   "cell_type": "code",
   "execution_count": 1,
   "metadata": {},
   "outputs": [],
   "source": [
    "%matplotlib inline"
   ]
  },
  {
   "cell_type": "code",
   "execution_count": 2,
   "metadata": {},
   "outputs": [],
   "source": [
    "import eqcatalog"
   ]
  },
  {
   "cell_type": "code",
   "execution_count": 4,
   "metadata": {},
   "outputs": [
    {
     "name": "stdout",
     "output_type": "stream",
     "text": [
      "+-------------------+-------------------------------------------------------------------+\n",
      "|     Parameter     |                               Value                               |\n",
      "+-------------------+-------------------------------------------------------------------+\n",
      "|    Catalog name   | ROB Catalog 1350-01-01T00:00:00 - 2021-01-08T11:40:53 (subselect) |\n",
      "| Earthquake number |                                2212                               |\n",
      "|     Start time    |                      1985-01-01T00:00:00.000                      |\n",
      "|      End time     |                      2021-01-08T11:40:53.000                      |\n",
      "|  Longitude bounds |                          1.1700 / 8.0000                          |\n",
      "|  Latitude bounds  |                         49.1630 / 51.9500                         |\n",
      "|    Depth range    |                           0.0 / 42.6 km                           |\n",
      "|         ML        |                     n=2174, min=-1.4, max=5.8                     |\n",
      "|         MS        |                       n=2, min=-1.2, max=5.4                      |\n",
      "|         MW        |                       n=2, min=-0.2, max=5.3                      |\n",
      "|    Event types    |                            ke (n=2212)                            |\n",
      "+-------------------+-------------------------------------------------------------------+\n"
     ]
    },
    {
     "data": {
      "text/plain": [
       "<prettytable.prettytable.PrettyTable at 0x241b912c9e8>"
      ]
     },
     "execution_count": 4,
     "metadata": {},
     "output_type": "execute_result"
    }
   ],
   "source": [
    "cat = eqcatalog.read_named_catalog('ROB', verbose=False)\n",
    "cat = cat.subselect(start_date=1985)\n",
    "cat.print_info()"
   ]
  },
  {
   "cell_type": "code",
   "execution_count": 5,
   "metadata": {},
   "outputs": [],
   "source": [
    "dc_method = eqcatalog.declustering.LinkedWindowMethod()\n",
    "dc_window = eqcatalog.declustering.Gruenthal2009Window()"
   ]
  },
  {
   "cell_type": "code",
   "execution_count": 12,
   "metadata": {},
   "outputs": [],
   "source": [
    "Mrelation = cat.default_Mrelations['ML']"
   ]
  },
  {
   "cell_type": "code",
   "execution_count": 9,
   "metadata": {},
   "outputs": [
    {
     "name": "stdout",
     "output_type": "stream",
     "text": [
      "Warning: Catalog contains NaN magnitudes!\n",
      "Better remove these first.\n",
      "Number of clusters identified: 270\n",
      "Max. cluster length: 119\n",
      "Num. clustered/unclustered events: 1326 / 886\n",
      "Num. dependent/independent events: 1056 / 1156\n"
     ]
    }
   ],
   "source": [
    "dc_result = dc_method.analyze_clusters(cat, dc_window, Mrelation)\n",
    "dc_result.print_info()"
   ]
  },
  {
   "cell_type": "code",
   "execution_count": 11,
   "metadata": {},
   "outputs": [
    {
     "name": "stdout",
     "output_type": "stream",
     "text": [
      "Cluster #12 (REGION DE DOUR)\n",
      "Number of events: 23\n",
      "Mainshock: 1987-04-01T06:43:51.300 (M=2.8)\n",
      "First event: 1987-03-18T05:16:31.200 (M=1.5)\n",
      "Duration: 31 days\n",
      "Equivalent magnitude: 3.1\n",
      "\n",
      "Cluster #33 (HAUTES-FAGNES)\n",
      "Number of events: 26\n",
      "Mainshock: 1990-01-12T10:22:17.760 (M=2.3)\n",
      "First event: 1989-12-31T21:26:10.960 (M=1.8)\n",
      "Duration: 20 days\n",
      "Equivalent magnitude: 2.6\n",
      "\n",
      "Cluster #34 (HAUTES-FAGNES)\n",
      "Number of events: 59\n",
      "Mainshock: 1990-02-07T02:43:38.330 (M=2.6)\n",
      "First event: 1990-01-24T21:52:17.840 (M=1.5)\n",
      "Duration: 54 days\n",
      "Equivalent magnitude: 3.1\n",
      "\n",
      "Cluster #36 (ROERMOND(N))\n",
      "Number of events: 59\n",
      "Mainshock: 1992-04-13T01:20:02.900 (M=5.3)\n",
      "First event: 1992-04-13T01:20:02.900 (M=5.3)\n",
      "Duration: 257 days\n",
      "Equivalent magnitude: 5.3\n",
      "\n",
      "Cluster #82 (VOERENDAAL (NL))\n",
      "Number of events: 27\n",
      "Mainshock: 2001-06-23T01:40:03.550 (M=3.7)\n",
      "First event: 2001-06-16T05:24:37.860 (M=2.6)\n",
      "Duration: 59 days\n",
      "Equivalent magnitude: 3.9\n",
      "\n",
      "Cluster #94 (ESCHWEILER - ALSDORF (DE))\n",
      "Number of events: 38\n",
      "Mainshock: 2002-07-22T05:45:04.790 (M=4.6)\n",
      "First event: 2002-07-22T05:45:04.790 (M=4.6)\n",
      "Duration: 113 days\n",
      "Equivalent magnitude: 4.6\n",
      "\n",
      "Cluster #150 (COURT-SAINT-ETIENNE (BE))\n",
      "Number of events: 52\n",
      "Mainshock: 2008-07-13T13:45:49.960 (M=3.2)\n",
      "First event: 2008-07-12T17:47:18.780 (M=2.5)\n",
      "Duration: 50 days\n",
      "Equivalent magnitude: 3.3\n",
      "\n",
      "Cluster #163 (COURT-SAINT-ETIENNE (BE))\n",
      "Number of events: 119\n",
      "Mainshock: 2009-03-03T03:23:32.640 (M=2.9)\n",
      "First event: 2009-02-21T13:21:21.510 (M=2.3)\n",
      "Duration: 55 days\n",
      "Equivalent magnitude: 3.1\n",
      "\n",
      "Cluster #243 (ROCHERATH (BE))\n",
      "Number of events: 21\n",
      "Mainshock: 2017-05-19T08:06:05.600 (M=2.2)\n",
      "First event: 2017-05-19T06:11:20.030 (M=1.5)\n",
      "Duration: 4 days\n",
      "Equivalent magnitude: 2.8\n",
      "\n",
      "Cluster #269 (ROTT (DE))\n",
      "Number of events: 31\n",
      "Mainshock: 2021-01-02T06:36:29.430 (M=2.8)\n",
      "First event: 2021-01-01T14:20:20.560 (M=0.8)\n",
      "Duration: 6 days\n",
      "Equivalent magnitude: 2.8\n",
      "\n"
     ]
    }
   ],
   "source": [
    "for cluster in dc_result.get_clusters():\n",
    "    if len(cluster) >= 20:\n",
    "        cluster.print_info()\n",
    "        print()"
   ]
  },
  {
   "cell_type": "code",
   "execution_count": null,
   "metadata": {},
   "outputs": [],
   "source": []
  }
 ],
 "metadata": {
  "kernelspec": {
   "display_name": "Python [conda env:py3]",
   "language": "python",
   "name": "conda-env-py3-py"
  },
  "language_info": {
   "codemirror_mode": {
    "name": "ipython",
    "version": 3
   },
   "file_extension": ".py",
   "mimetype": "text/x-python",
   "name": "python",
   "nbconvert_exporter": "python",
   "pygments_lexer": "ipython3",
   "version": "3.7.1"
  }
 },
 "nbformat": 4,
 "nbformat_minor": 4
}
