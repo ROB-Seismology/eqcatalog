{
 "cells": [
  {
   "cell_type": "markdown",
   "metadata": {},
   "source": [
    "## Write DYFI geocodings to db"
   ]
  },
  {
   "cell_type": "markdown",
   "metadata": {},
   "source": [
    "This notebook demonstrates how to write geocoded locations for DYFI enquiries stored in a CSV file to the database."
   ]
  },
  {
   "cell_type": "markdown",
   "metadata": {},
   "source": [
    "CSV files need to have at least the following columns: 'id_web', 'longitude', 'latitude', 'address_type'"
   ]
  },
  {
   "cell_type": "markdown",
   "metadata": {},
   "source": [
    "Note that the CSV file must be on the same computer as the notebook server!\n",
    "\n",
    "If it is on a remote server, then the CSV file must be readable to the user under whose name the server is running!"
   ]
  },
  {
   "cell_type": "markdown",
   "metadata": {},
   "source": [
    "Import python modules"
   ]
  },
  {
   "cell_type": "code",
   "execution_count": 46,
   "metadata": {},
   "outputs": [],
   "source": [
    "import os\n",
    "import csv\n",
    "\n",
    "import db.simpledb as simpledb\n",
    "from secrets.seismodb import (host, database, user_rw, passwd_rw)\n",
    "\n",
    "from eqcatalog.rob.seismodb import query_seismodb_table"
   ]
  },
  {
   "cell_type": "markdown",
   "metadata": {},
   "source": [
    "Define CSV file to work with"
   ]
  },
  {
   "cell_type": "code",
   "execution_count": 47,
   "metadata": {},
   "outputs": [],
   "source": [
    "## On Windows PC\n",
    "csv_folder = \"D:\\\\Earthquake Reports\\\\20190623\\\\DYFI geocoding\"\n",
    "## On poseidon\n",
    "#csv_folder = \"/home/koenvn/\"\n",
    "csv_filename = \"macroseismic_inq_for_8285_corrected_geocoded-ArcGIS.csv\"\n",
    "csv_file = os.path.join(csv_folder, csv_filename)"
   ]
  },
  {
   "cell_type": "code",
   "execution_count": 48,
   "metadata": {},
   "outputs": [],
   "source": [
    "def read_geocoded_records_from_db():\n",
    "    \"\"\"\n",
    "    Read all id_web IDs currently in web_location database table\n",
    "    \n",
    "    :return:\n",
    "        list of dicts, mapping column names ('id_web', 'quality') to values\n",
    "    \"\"\"\n",
    "    table_name = 'web_location'\n",
    "    column_clause = ['id_web', 'quality']\n",
    "    db_recs = query_seismodb_table(table_name, column_clause=column_clause)\n",
    "    \n",
    "    print('Read %d geocoded records from database' % len(db_recs))\n",
    "    \n",
    "    return db_recs"
   ]
  },
  {
   "cell_type": "code",
   "execution_count": 49,
   "metadata": {},
   "outputs": [
    {
     "name": "stdout",
     "output_type": "stream",
     "text": [
      "Read 25855 geocoded records from database\n"
     ]
    }
   ],
   "source": [
    "db_recs = read_geocoded_records_from_db()"
   ]
  },
  {
   "cell_type": "code",
   "execution_count": 50,
   "metadata": {},
   "outputs": [],
   "source": [
    "def read_geocodings_from_csv(csv_file):\n",
    "    \"\"\"\n",
    "    Read geocoded results from CSV file\n",
    "    \n",
    "    Note: 'address_type' (str) will be converted to quality (int)\n",
    "    \n",
    "    :param csv_file:\n",
    "        str, full path to CSV file (must be on same computer as notebook server!)\n",
    "    \n",
    "    :return:\n",
    "        list of dicts mapping column names ('id_web', 'lon', 'lat', 'quality')\n",
    "        to values\n",
    "    \"\"\"\n",
    "    recs = []\n",
    "    \n",
    "    with open(csv_file) as csvf:\n",
    "        reader = csv.DictReader(csvf)\n",
    "        for row in reader:\n",
    "            rec = {}\n",
    "            rec['id_web'] = int(row['id_web'])\n",
    "            rec['longitude'] = float(row['Geo_Longitude'])\n",
    "            rec['latitude'] = float(row['Geo_Latitude'])\n",
    "            address_type = row['address type']\n",
    "            \n",
    "            ## Convert ArcGIS address_type to location quality\n",
    "\n",
    "            ## Geocoder confidence:\n",
    "            ## 10 : 250 m\n",
    "            ##  9 : 500 m\n",
    "            ##  8 : 1 km\n",
    "            ##  7 : 5 km\n",
    "            ##  6 : 7.5 km\n",
    "            ##  5 : 10 km\n",
    "            ##  4 : 15 km\n",
    "            ##  3 : 20 km\n",
    "            ##  2 : 25 km\n",
    "            ##  1 : > 25 km\n",
    "            ##  0 : undetermined\n",
    "\n",
    "            ## Google API v2 GGeoAddressAccuracy:\n",
    "            ## Constant | Description\n",
    "            ## 0 Unknown location.\n",
    "            ## 1 Country level accuracy.\n",
    "            ## 2 Region (state, province, prefecture, etc.) level accuracy.\n",
    "            ## 3 Sub-region (county, municipality, etc.) level accuracy.\n",
    "            ## 4 Town (city, village) level accuracy.\n",
    "            ## 5 Post code (zip code) level accuracy.\n",
    "            ## 6 Street level accuracy.\n",
    "            ## 7 Intersection level accuracy.\n",
    "            ## 8 Address level accuracy.\n",
    "            ## 9 Premise (building name, property name, shopping center, etc.) level accuracy.\n",
    "\n",
    "            \"\"\"\n",
    "            rec['confidence'] = {'SubAddress': 10,\n",
    "                                'PointAddress': 10,\n",
    "                                'StreetAddress': 10,\n",
    "                                'StreetInt': 9,\n",
    "                                'StreetAddressExt': 9,\n",
    "                                'DistanceMarker': 9,\n",
    "                                'StreetName': 8,\n",
    "                                'Locality': 8,\n",
    "                                'PostalLoc': 7,\n",
    "                                'PostalExt': 7,\n",
    "                                'Postal': 7,\n",
    "                                'POI': 7}.get(address_type, 0)\n",
    "            \"\"\"\n",
    "\n",
    "            rec['quality'] = {'SubAddress': 9,\n",
    "                                'PointAddress': 9,\n",
    "                                'StreetAddress': 8,\n",
    "                                'StreetInt': 7,\n",
    "                                'StreetAddressExt': 7,\n",
    "                                'DistanceMarker': 7,\n",
    "                                'StreetName': 6,\n",
    "                                'Locality': 5,\n",
    "                                'PostalLoc': 5,\n",
    "                                'PostalExt': 5,\n",
    "                                'Postal': 4,\n",
    "                                'POI': 4}.get(address_type, 0)\n",
    "            \n",
    "            recs.append(rec)\n",
    "    \n",
    "    print('Read %d geocoded records from CSV file' % len(recs))\n",
    "    \n",
    "    return recs"
   ]
  },
  {
   "cell_type": "code",
   "execution_count": 51,
   "metadata": {},
   "outputs": [
    {
     "name": "stdout",
     "output_type": "stream",
     "text": [
      "Read 37 geocoded records from CSV file\n"
     ]
    }
   ],
   "source": [
    "csv_recs = read_geocodings_from_csv(csv_file)"
   ]
  },
  {
   "cell_type": "code",
   "execution_count": 52,
   "metadata": {},
   "outputs": [],
   "source": [
    "def determine_recs_to_write_to_db(csv_recs):\n",
    "    \"\"\"\n",
    "    Determine which CSV geocodings need to be written to the database\n",
    "    \n",
    "    :param csv_recs:\n",
    "        list of dicts returned by :func:`read_geocodings_from_csv`\n",
    "    \n",
    "    :return:\n",
    "        (recs_to_add, recs_to_modify) tuple of lists of dicts\n",
    "    \"\"\"\n",
    "    recs_to_add, recs_to_modify = [], []\n",
    "\n",
    "    db_recs = read_geocoded_records_from_db()\n",
    "    web_ids = [rec['id_web'] for rec in db_recs]\n",
    "\n",
    "    num_db_recs = 0\n",
    "    for rec in csv_recs:\n",
    "        id_web = rec['id_web']\n",
    "        lon = rec['longitude']\n",
    "        lat = rec['latitude']\n",
    "\n",
    "        try:\n",
    "            r = web_ids.index(id_web)\n",
    "        except:\n",
    "            recs_to_add.append(rec)\n",
    "        else:\n",
    "            ## Only overwrite existing locations if quality is better\n",
    "            if rec['quality'] > db_recs[r]['quality']:\n",
    "                recs_to_modify.append(rec)\n",
    "            else:\n",
    "                num_db_recs += 1\n",
    "    \n",
    "    print('Identified %d new records to add / %d records to modify'\n",
    "         % (len(recs_to_add), len(recs_to_modify)))\n",
    "    print('%d records in db have higher or equal location quality' % num_db_recs)\n",
    "\n",
    "    return (recs_to_add, recs_to_modify)"
   ]
  },
  {
   "cell_type": "code",
   "execution_count": 53,
   "metadata": {},
   "outputs": [
    {
     "name": "stdout",
     "output_type": "stream",
     "text": [
      "Read 25855 geocoded records from database\n",
      "Identified 0 new records to add / 0 records to modify\n",
      "37 records in db have higher or equal location quality\n"
     ]
    }
   ],
   "source": [
    "recs_to_add, recs_to_modify = determine_recs_to_write_to_db(csv_recs)"
   ]
  },
  {
   "cell_type": "code",
   "execution_count": 54,
   "metadata": {},
   "outputs": [],
   "source": [
    "def write_csv_geocodings_to_db(csv_recs, dry_run=True):\n",
    "    \"\"\"\n",
    "    Write CSV geocodings to database\n",
    "    \n",
    "    :param csv_recs:\n",
    "        list of dicts returned by :func:`read_geocodings_from_csv`\n",
    "    :param dry_run:\n",
    "        bool, whether to really write to the database (False)\n",
    "        or just print how many records will be added or updated (True)\n",
    "        Note: it is not possible to undo this operation!\n",
    "    \"\"\"\n",
    "    recs_to_add, recs_to_modify = determine_recs_to_write_to_db(csv_recs)\n",
    "\n",
    "    seismodb = simpledb.MySQLDB(database, host, user_rw, passwd_rw)\n",
    "    table_name = 'web_location'\n",
    "\n",
    "    if len(recs_to_add):\n",
    "        print(\"Adding %d new records\" % len(recs_to_add))\n",
    "        if not dry_run:\n",
    "            seismodb.add_records(table_name, recs_to_add, dry_run=True)\n",
    "\n",
    "    if len(recs_to_modify):\n",
    "        print(\"Updating %d existing records\" % len(recs_to_modify))\n",
    "        if not dry_run:\n",
    "            seismodb.update_rows(table_name, recs_to_modify, 'id_web', dry_run=True)\n"
   ]
  },
  {
   "cell_type": "code",
   "execution_count": 55,
   "metadata": {},
   "outputs": [
    {
     "name": "stdout",
     "output_type": "stream",
     "text": [
      "Read 25855 geocoded records from database\n",
      "Identified 0 new records to add / 0 records to modify\n",
      "37 records in db have higher or equal location quality\n"
     ]
    }
   ],
   "source": [
    "write_csv_geocodings_to_db(csv_recs, dry_run=True)"
   ]
  },
  {
   "cell_type": "code",
   "execution_count": null,
   "metadata": {},
   "outputs": [],
   "source": []
  }
 ],
 "metadata": {
  "kernelspec": {
   "display_name": "Python [conda env:py3]",
   "language": "python",
   "name": "conda-env-py3-py"
  },
  "language_info": {
   "codemirror_mode": {
    "name": "ipython",
    "version": 3
   },
   "file_extension": ".py",
   "mimetype": "text/x-python",
   "name": "python",
   "nbconvert_exporter": "python",
   "pygments_lexer": "ipython3",
   "version": "3.7.1"
  }
 },
 "nbformat": 4,
 "nbformat_minor": 4
}
