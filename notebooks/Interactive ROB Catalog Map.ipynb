{
 "cells": [
  {
   "cell_type": "code",
   "execution_count": 1,
   "metadata": {},
   "outputs": [],
   "source": [
    "from IPython.core.display import display, HTML\n",
    "from ipywidgets import interact, interactive, fixed, interact_manual\n",
    "import ipywidgets as widgets"
   ]
  },
  {
   "cell_type": "code",
   "execution_count": 2,
   "metadata": {},
   "outputs": [],
   "source": [
    "import eqcatalog"
   ]
  },
  {
   "cell_type": "code",
   "execution_count": 3,
   "metadata": {},
   "outputs": [],
   "source": [
    "full_cat = eqcatalog.rob.query_local_eq_catalog(region=(0, 8, 49, 52), event_type='all')\n",
    "## Add converted moment magnitude column for subselecting\n",
    "moment_mags = full_cat.get_magnitudes('MW', Mrelation={})\n",
    "for i in range(len(full_cat)):\n",
    "    full_cat[i].set_mag('MWc', moment_mags[i])\n",
    "full_cat.default_Mrelations = {}"
   ]
  },
  {
   "cell_type": "code",
   "execution_count": 4,
   "metadata": {},
   "outputs": [],
   "source": [
    "date_slider = widgets.IntRangeSlider(\n",
    "    value=[1910, 2020],\n",
    "    min=1350,\n",
    "    max=2020,\n",
    "    step=1,\n",
    "    description='Year range:',\n",
    "    disabled=False,\n",
    "    continuous_update=False,\n",
    "    orientation='horizontal',\n",
    "    readout=True,\n",
    "    readout_format='d',\n",
    ")\n",
    "#display(date_slider)"
   ]
  },
  {
   "cell_type": "code",
   "execution_count": 5,
   "metadata": {},
   "outputs": [],
   "source": [
    "mtype_selector = widgets.Dropdown(\n",
    "    options=['ML', 'MS', 'MW', 'MWc'],\n",
    "    value='ML',\n",
    "    description='Mag. type:',\n",
    "    disabled=False,\n",
    ")\n",
    "#display(mtype_selector)"
   ]
  },
  {
   "cell_type": "code",
   "execution_count": 14,
   "metadata": {},
   "outputs": [],
   "source": [
    "mag_slider = widgets.FloatRangeSlider(\n",
    "    value=[2., 7.0],\n",
    "    min=-1.,\n",
    "    max=7.0,\n",
    "    step=0.1,\n",
    "    description='Magnitude:',\n",
    "    disabled=False,\n",
    "    continuous_update=False,\n",
    "    orientation='horizontal',\n",
    "    readout=True,\n",
    "    readout_format='.1f',\n",
    ")\n",
    "#display(mag_slider)"
   ]
  },
  {
   "cell_type": "code",
   "execution_count": 7,
   "metadata": {},
   "outputs": [],
   "source": [
    "depth_slider = widgets.IntRangeSlider(\n",
    "    value=[0, 50],\n",
    "    min=0,\n",
    "    max=50,\n",
    "    step=1,\n",
    "    description='Depth range:',\n",
    "    disabled=False,\n",
    "    continuous_update=False,\n",
    "    orientation='horizontal',\n",
    "    readout=True,\n",
    "    readout_format='d',\n",
    ")\n",
    "#display(depth_slider)"
   ]
  },
  {
   "cell_type": "code",
   "execution_count": 13,
   "metadata": {},
   "outputs": [],
   "source": [
    "etype_selector = widgets.SelectMultiple(\n",
    "    options=[('Earthquake', 'ke'),\n",
    "            ('Suspected earthquake', 'se'),\n",
    "            ('Induced event', 'ki'),\n",
    "            ('Suspected induced event', 'si'),\n",
    "            ('Quarry blast', 'qb'),\n",
    "            ('Suspected quarry blast', 'sqb'),\n",
    "            ('Controlled explosion', 'cb'),\n",
    "            ('Suspected controlled explosion', 'scb'),\n",
    "            ('Mine explosion', 'km'),\n",
    "            ('Suspected mine explosion', 'sm')],\n",
    "    value=['ke'],\n",
    "    #rows=10,\n",
    "    description='Event type:',\n",
    "    disabled=False\n",
    ")\n",
    "#display(etype_selector)"
   ]
  },
  {
   "cell_type": "code",
   "execution_count": 9,
   "metadata": {},
   "outputs": [],
   "source": [
    "def subselect_catalog(year_range, mag_range, Mtype, depth_range,\n",
    "                     event_types):\n",
    "    min_year, max_year = year_range\n",
    "    min_mag, max_mag = mag_range\n",
    "    min_depth, max_depth = depth_range\n",
    "    subcat = full_cat.subselect(start_date=min_year, end_date=max_year,\n",
    "                               Mmin=min_mag, Mmax=max_mag, Mtype=Mtype,\n",
    "                               min_depth=min_depth, max_depth=max_depth,\n",
    "                               attr_val=('event_type', list(event_types)))\n",
    "    subcat.name = 'ROB Catalog'\n",
    "    ax = subcat.plot_map(region=(0, 8, 49, 52), Mtype=Mtype, Mrelation={})"
   ]
  },
  {
   "cell_type": "code",
   "execution_count": 17,
   "metadata": {},
   "outputs": [
    {
     "data": {
      "application/vnd.jupyter.widget-view+json": {
       "model_id": "1358e954fd98483f80cc5b58913d765d",
       "version_major": 2,
       "version_minor": 0
      },
      "text/html": [
       "<p>Failed to display Jupyter Widget of type <code>interactive</code>.</p>\n",
       "<p>\n",
       "  If you're reading this message in the Jupyter Notebook or JupyterLab Notebook, it may mean\n",
       "  that the widgets JavaScript is still loading. If this message persists, it\n",
       "  likely means that the widgets JavaScript library is either not installed or\n",
       "  not enabled. See the <a href=\"https://ipywidgets.readthedocs.io/en/stable/user_install.html\">Jupyter\n",
       "  Widgets Documentation</a> for setup instructions.\n",
       "</p>\n",
       "<p>\n",
       "  If you're reading this message in another frontend (for example, a static\n",
       "  rendering on GitHub or <a href=\"https://nbviewer.jupyter.org/\">NBViewer</a>),\n",
       "  it may mean that your frontend doesn't currently support widgets.\n",
       "</p>\n"
      ],
      "text/plain": [
       "interactive(children=(IntRangeSlider(value=(1910, 2020), continuous_update=False, description=u'Year range:', max=2020, min=1350), FloatRangeSlider(value=(2.0, 7.0), continuous_update=False, description=u'Magnitude:', max=7.0, min=-1.0, readout_format=u'.1f'), Dropdown(description=u'Mag. type:', index=3, options=('ML', 'MS', 'MW', 'MWc'), value='MWc'), IntRangeSlider(value=(0, 50), continuous_update=False, description=u'Depth range:', max=50), SelectMultiple(description=u'Event type:', index=(0,), options=(('Earthquake', 'ke'), ('Suspected earthquake', 'se'), ('Induced event', 'ki'), ('Suspected induced event', 'si'), ('Quarry blast', 'qb'), ('Suspected quarry blast', 'sqb'), ('Controlled explosion', 'cb'), ('Suspected controlled explosion', 'scb'), ('Mine explosion', 'km'), ('Suspected mine explosion', 'sm')), value=('ke',)), Output()), _dom_classes=('widget-interact',))"
      ]
     },
     "metadata": {},
     "output_type": "display_data"
    }
   ],
   "source": [
    "interactive_plot = interactive(subselect_catalog,\n",
    "                               year_range=date_slider,\n",
    "                               mag_range=mag_slider, Mtype=mtype_selector,\n",
    "                               depth_range=depth_slider,\n",
    "                               event_types=etype_selector)\n",
    "output = interactive_plot.children[-1]\n",
    "#output.layout.height = '350px'\n",
    "interactive_plot"
   ]
  }
 ],
 "metadata": {
  "kernelspec": {
   "display_name": "Python 2",
   "language": "python",
   "name": "python2"
  },
  "language_info": {
   "codemirror_mode": {
    "name": "ipython",
    "version": 2
   },
   "file_extension": ".py",
   "mimetype": "text/x-python",
   "name": "python",
   "nbconvert_exporter": "python",
   "pygments_lexer": "ipython2",
   "version": "2.7.15"
  }
 },
 "nbformat": 4,
 "nbformat_minor": 4
}
