{
 "cells": [
  {
   "cell_type": "code",
   "execution_count": 1,
   "metadata": {},
   "outputs": [],
   "source": [
    "from IPython.core.display import display, HTML\n",
    "from ipywidgets import interact, interactive, fixed, interact_manual\n",
    "import ipywidgets as widgets"
   ]
  },
  {
   "cell_type": "code",
   "execution_count": 20,
   "metadata": {},
   "outputs": [],
   "source": [
    "import datetime\n",
    "import eqcatalog"
   ]
  },
  {
   "cell_type": "code",
   "execution_count": 3,
   "metadata": {},
   "outputs": [],
   "source": [
    "full_cat = eqcatalog.rob.query_local_eq_catalog(region=(0, 8, 49, 52), event_type='all')\n",
    "## Add converted moment magnitude column\n",
    "moment_mags = full_cat.get_magnitudes('MW', Mrelation={})\n",
    "for i in range(len(full_cat)):\n",
    "    full_cat[i].set_mag('MWc', moment_mags[i])\n",
    "full_cat.default_Mrelations = {}"
   ]
  },
  {
   "cell_type": "code",
   "execution_count": 4,
   "metadata": {},
   "outputs": [],
   "source": [
    "date_slider = widgets.IntRangeSlider(\n",
    "    value=[1910, 2020],\n",
    "    min=1350,\n",
    "    max=2020,\n",
    "    step=1,\n",
    "    description='Year range:',\n",
    "    disabled=False,\n",
    "    continuous_update=False,\n",
    "    orientation='horizontal',\n",
    "    readout=True,\n",
    "    readout_format='d',\n",
    ")\n",
    "#display(date_slider)"
   ]
  },
  {
   "cell_type": "code",
   "execution_count": 28,
   "metadata": {},
   "outputs": [],
   "source": [
    "start_date_picker = widgets.DatePicker(\n",
    "    value=datetime.date(1985, 1, 1),\n",
    "    description='Start date:',\n",
    "    disabled=False\n",
    ")\n",
    "#display(start_date_picker)"
   ]
  },
  {
   "cell_type": "code",
   "execution_count": 22,
   "metadata": {},
   "outputs": [],
   "source": [
    "end_date_picker = widgets.DatePicker(\n",
    "    value = datetime.date.today(),\n",
    "    description='End date:',\n",
    "    disabled=False\n",
    ")\n",
    "#display(end_date_picker)"
   ]
  },
  {
   "cell_type": "code",
   "execution_count": 5,
   "metadata": {},
   "outputs": [],
   "source": [
    "mtype_selector = widgets.Dropdown(\n",
    "    options=['ML', 'MS', 'MW', 'MWc'],\n",
    "    value='ML',\n",
    "    description='Mag. type:',\n",
    "    disabled=False,\n",
    ")\n",
    "#display(mtype_selector)"
   ]
  },
  {
   "cell_type": "code",
   "execution_count": 35,
   "metadata": {},
   "outputs": [],
   "source": [
    "lon_slider = widgets.FloatRangeSlider(\n",
    "    value=[0., 8.],\n",
    "    min=-1.,\n",
    "    max=9.,\n",
    "    step=0.1,\n",
    "    description='Lon range:',\n",
    "    disabled=False,\n",
    "    continuous_update=False,\n",
    "    orientation='horizontal',\n",
    "    readout=True,\n",
    "    readout_format='.1f',\n",
    ")"
   ]
  },
  {
   "cell_type": "code",
   "execution_count": 36,
   "metadata": {},
   "outputs": [],
   "source": [
    "lat_slider = widgets.FloatRangeSlider(\n",
    "    value=[49., 52.],\n",
    "    min=48.,\n",
    "    max=53.,\n",
    "    step=0.1,\n",
    "    description='Lat range:',\n",
    "    disabled=False,\n",
    "    continuous_update=False,\n",
    "    orientation='horizontal',\n",
    "    readout=True,\n",
    "    readout_format='.1f',\n",
    ")"
   ]
  },
  {
   "cell_type": "code",
   "execution_count": 6,
   "metadata": {},
   "outputs": [],
   "source": [
    "mag_slider = widgets.FloatRangeSlider(\n",
    "    value=[2., 7.0],\n",
    "    min=-1.,\n",
    "    max=7.0,\n",
    "    step=0.1,\n",
    "    description='Magnitude:',\n",
    "    disabled=False,\n",
    "    continuous_update=False,\n",
    "    orientation='horizontal',\n",
    "    readout=True,\n",
    "    readout_format='.1f',\n",
    ")\n",
    "#display(mag_slider)"
   ]
  },
  {
   "cell_type": "code",
   "execution_count": 7,
   "metadata": {},
   "outputs": [],
   "source": [
    "depth_slider = widgets.IntRangeSlider(\n",
    "    value=[0, 50],\n",
    "    min=0,\n",
    "    max=50,\n",
    "    step=1,\n",
    "    description='Depth range:',\n",
    "    disabled=False,\n",
    "    continuous_update=False,\n",
    "    orientation='horizontal',\n",
    "    readout=True,\n",
    "    readout_format='d',\n",
    ")\n",
    "#display(depth_slider)"
   ]
  },
  {
   "cell_type": "code",
   "execution_count": 8,
   "metadata": {},
   "outputs": [],
   "source": [
    "etype_selector = widgets.SelectMultiple(\n",
    "    options=[('Earthquake', 'ke'),\n",
    "            ('Suspected earthquake', 'se'),\n",
    "            ('Induced event', 'ki'),\n",
    "            ('Suspected induced event', 'si'),\n",
    "            ('Quarry blast', 'qb'),\n",
    "            ('Suspected quarry blast', 'sqb'),\n",
    "            ('Controlled explosion', 'cb'),\n",
    "            ('Suspected controlled explosion', 'scb'),\n",
    "            ('Mine explosion', 'km'),\n",
    "            ('Suspected mine explosion', 'sm')],\n",
    "    value=['ke'],\n",
    "    #rows=10,\n",
    "    description='Event type:',\n",
    "    disabled=False\n",
    ")\n",
    "#display(etype_selector)"
   ]
  },
  {
   "cell_type": "code",
   "execution_count": 9,
   "metadata": {},
   "outputs": [],
   "source": [
    "plot_type_selector = widgets.Dropdown(\n",
    "    options=['basemap', 'folium'],\n",
    "    value='folium',\n",
    "    description='Plot type:',\n",
    "    disabled=False,\n",
    ")\n",
    "#display(plot_type_selector)"
   ]
  },
  {
   "cell_type": "code",
   "execution_count": 39,
   "metadata": {},
   "outputs": [],
   "source": [
    "def subselect_catalog(plot_type, min_date, max_date, lon_range, lat_range,\n",
    "                      mag_range, Mtype, depth_range, event_types):\n",
    "    #min_date, max_date = year_range\n",
    "    #region = (0, 8, 49, 52)\n",
    "    region = lon_range + lat_range\n",
    "    min_mag, max_mag = mag_range\n",
    "    min_depth, max_depth = depth_range\n",
    "    subcat = full_cat.subselect(start_date=min_date, end_date=max_date,\n",
    "                               region=region,\n",
    "                               Mmin=min_mag, Mmax=max_mag, Mtype=Mtype,\n",
    "                               min_depth=min_depth, max_depth=max_depth,\n",
    "                               attr_val=('event_type', list(event_types)))\n",
    "    subcat.name = 'ROB Catalog'\n",
    "    if plot_type == 'basemap':\n",
    "        ax = subcat.plot_map(region=region, Mtype=Mtype, Mrelation={})\n",
    "    elif plot_type == 'folium':\n",
    "        map = subcat.get_folium_map(Mtype=Mtype, Mrelation={}, region=region)\n",
    "        display(map)"
   ]
  },
  {
   "cell_type": "code",
   "execution_count": 40,
   "metadata": {},
   "outputs": [
    {
     "data": {
      "application/vnd.jupyter.widget-view+json": {
       "model_id": "f286cc809b2c472fbd76921703b3e587",
       "version_major": 2,
       "version_minor": 0
      },
      "text/html": [
       "<p>Failed to display Jupyter Widget of type <code>interactive</code>.</p>\n",
       "<p>\n",
       "  If you're reading this message in the Jupyter Notebook or JupyterLab Notebook, it may mean\n",
       "  that the widgets JavaScript is still loading. If this message persists, it\n",
       "  likely means that the widgets JavaScript library is either not installed or\n",
       "  not enabled. See the <a href=\"https://ipywidgets.readthedocs.io/en/stable/user_install.html\">Jupyter\n",
       "  Widgets Documentation</a> for setup instructions.\n",
       "</p>\n",
       "<p>\n",
       "  If you're reading this message in another frontend (for example, a static\n",
       "  rendering on GitHub or <a href=\"https://nbviewer.jupyter.org/\">NBViewer</a>),\n",
       "  it may mean that your frontend doesn't currently support widgets.\n",
       "</p>\n"
      ],
      "text/plain": [
       "interactive(children=(Dropdown(description=u'Plot type:', options=('basemap', 'folium'), value='basemap'), DatePicker(value=datetime.date(2000, 1, 1), description=u'Start date:'), DatePicker(value=datetime.date(2020, 7, 27), description=u'End date:'), FloatRangeSlider(value=(0.0, 8.0), continuous_update=False, description=u'Lon range:', max=9.0, min=-1.0, readout_format=u'.1f'), FloatRangeSlider(value=(49.0, 52.0), continuous_update=False, description=u'Lat range:', max=53.0, min=48.0, readout_format=u'.1f'), FloatRangeSlider(value=(2.0, 7.0), continuous_update=False, description=u'Magnitude:', max=7.0, min=-1.0, readout_format=u'.1f'), Dropdown(description=u'Mag. type:', options=('ML', 'MS', 'MW', 'MWc'), value='ML'), IntRangeSlider(value=(0, 50), continuous_update=False, description=u'Depth range:', max=50), SelectMultiple(description=u'Event type:', index=(0,), options=(('Earthquake', 'ke'), ('Suspected earthquake', 'se'), ('Induced event', 'ki'), ('Suspected induced event', 'si'), ('Quarry blast', 'qb'), ('Suspected quarry blast', 'sqb'), ('Controlled explosion', 'cb'), ('Suspected controlled explosion', 'scb'), ('Mine explosion', 'km'), ('Suspected mine explosion', 'sm')), value=('ke',)), Output()), _dom_classes=('widget-interact',))"
      ]
     },
     "metadata": {},
     "output_type": "display_data"
    }
   ],
   "source": [
    "interactive_plot = interactive(subselect_catalog,\n",
    "                               plot_type=plot_type_selector,\n",
    "                               #year_range=date_slider,\n",
    "                               min_date=start_date_picker, max_date=end_date_picker,\n",
    "                               lon_range=lon_slider, lat_range=lat_slider,\n",
    "                               mag_range=mag_slider, Mtype=mtype_selector,\n",
    "                               depth_range=depth_slider,\n",
    "                               event_types=etype_selector)\n",
    "#output = interactive_plot.children[-1]\n",
    "#output.layout.height = '350px'\n",
    "interactive_plot"
   ]
  }
 ],
 "metadata": {
  "kernelspec": {
   "display_name": "Python 2",
   "language": "python",
   "name": "python2"
  },
  "language_info": {
   "codemirror_mode": {
    "name": "ipython",
    "version": 2
   },
   "file_extension": ".py",
   "mimetype": "text/x-python",
   "name": "python",
   "nbconvert_exporter": "python",
   "pygments_lexer": "ipython2",
   "version": "2.7.15"
  }
 },
 "nbformat": 4,
 "nbformat_minor": 4
}
