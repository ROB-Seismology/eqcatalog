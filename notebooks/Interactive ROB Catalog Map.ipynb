{
 "cells": [
  {
   "cell_type": "code",
   "execution_count": null,
   "metadata": {},
   "outputs": [],
   "source": [
    "from IPython.core.display import display, HTML\n",
    "from ipywidgets import interact, interactive, fixed, interact_manual\n",
    "import ipywidgets as widgets"
   ]
  },
  {
   "cell_type": "code",
   "execution_count": null,
   "metadata": {},
   "outputs": [],
   "source": [
    "import datetime\n",
    "import eqcatalog"
   ]
  },
  {
   "cell_type": "code",
   "execution_count": null,
   "metadata": {},
   "outputs": [],
   "source": [
    "full_cat = eqcatalog.rob.query_local_eq_catalog(region=(0, 8, 49, 52), event_type='all')\n",
    "## Add converted moment magnitude column\n",
    "moment_mags = full_cat.get_magnitudes('MW', Mrelation={})\n",
    "for i in range(len(full_cat)):\n",
    "    full_cat[i].set_mag('MWc', moment_mags[i])\n",
    "full_cat.default_Mrelations = {}"
   ]
  },
  {
   "cell_type": "code",
   "execution_count": null,
   "metadata": {},
   "outputs": [],
   "source": [
    "date_slider = widgets.IntRangeSlider(\n",
    "    value=[1910, 2020],\n",
    "    min=1350,\n",
    "    max=2020,\n",
    "    step=1,\n",
    "    description='Year range:',\n",
    "    disabled=False,\n",
    "    continuous_update=False,\n",
    "    orientation='horizontal',\n",
    "    readout=True,\n",
    "    readout_format='d',\n",
    ")\n",
    "#display(date_slider)"
   ]
  },
  {
   "cell_type": "code",
   "execution_count": null,
   "metadata": {},
   "outputs": [],
   "source": [
    "start_date_picker = widgets.DatePicker(\n",
    "    value=datetime.date(1985, 1, 1),\n",
    "    description='Start date:',\n",
    "    disabled=False\n",
    ")\n",
    "#display(start_date_picker)"
   ]
  },
  {
   "cell_type": "code",
   "execution_count": null,
   "metadata": {},
   "outputs": [],
   "source": [
    "end_date_picker = widgets.DatePicker(\n",
    "    value = datetime.date.today(),\n",
    "    description='End date:',\n",
    "    disabled=False\n",
    ")\n",
    "#display(end_date_picker)"
   ]
  },
  {
   "cell_type": "code",
   "execution_count": null,
   "metadata": {},
   "outputs": [],
   "source": [
    "mtype_selector = widgets.Dropdown(\n",
    "    options=['ML', 'MS', 'MW', 'MWc'],\n",
    "    value='ML',\n",
    "    description='Mag. type:',\n",
    "    disabled=False,\n",
    ")\n",
    "#display(mtype_selector)"
   ]
  },
  {
   "cell_type": "code",
   "execution_count": null,
   "metadata": {},
   "outputs": [],
   "source": [
    "lon_slider = widgets.FloatRangeSlider(\n",
    "    value=[0., 8.],\n",
    "    min=-1.,\n",
    "    max=9.,\n",
    "    step=0.1,\n",
    "    description='Lon range:',\n",
    "    disabled=False,\n",
    "    continuous_update=False,\n",
    "    orientation='horizontal',\n",
    "    readout=True,\n",
    "    readout_format='.1f',\n",
    ")"
   ]
  },
  {
   "cell_type": "code",
   "execution_count": null,
   "metadata": {},
   "outputs": [],
   "source": [
    "lat_slider = widgets.FloatRangeSlider(\n",
    "    value=[49., 52.],\n",
    "    min=48.,\n",
    "    max=53.,\n",
    "    step=0.1,\n",
    "    description='Lat range:',\n",
    "    disabled=False,\n",
    "    continuous_update=False,\n",
    "    orientation='horizontal',\n",
    "    readout=True,\n",
    "    readout_format='.1f',\n",
    ")"
   ]
  },
  {
   "cell_type": "code",
   "execution_count": null,
   "metadata": {},
   "outputs": [],
   "source": [
    "mag_slider = widgets.FloatRangeSlider(\n",
    "    value=[2., 7.0],\n",
    "    min=-1.,\n",
    "    max=7.0,\n",
    "    step=0.1,\n",
    "    description='Magnitude:',\n",
    "    disabled=False,\n",
    "    continuous_update=False,\n",
    "    orientation='horizontal',\n",
    "    readout=True,\n",
    "    readout_format='.1f',\n",
    ")\n",
    "#display(mag_slider)"
   ]
  },
  {
   "cell_type": "code",
   "execution_count": null,
   "metadata": {},
   "outputs": [],
   "source": [
    "depth_slider = widgets.IntRangeSlider(\n",
    "    value=[0, 50],\n",
    "    min=0,\n",
    "    max=50,\n",
    "    step=1,\n",
    "    description='Depth range:',\n",
    "    disabled=False,\n",
    "    continuous_update=False,\n",
    "    orientation='horizontal',\n",
    "    readout=True,\n",
    "    readout_format='d',\n",
    ")\n",
    "#display(depth_slider)"
   ]
  },
  {
   "cell_type": "code",
   "execution_count": null,
   "metadata": {},
   "outputs": [],
   "source": [
    "etype_selector = widgets.SelectMultiple(\n",
    "    options=[('Earthquake', 'ke'),\n",
    "            ('Suspected earthquake', 'se'),\n",
    "            ('Induced event', 'ki'),\n",
    "            ('Suspected induced event', 'si'),\n",
    "            ('Quarry blast', 'qb'),\n",
    "            ('Suspected quarry blast', 'sqb'),\n",
    "            ('Controlled explosion', 'cb'),\n",
    "            ('Suspected controlled explosion', 'scb'),\n",
    "            ('Mine explosion', 'km'),\n",
    "            ('Suspected mine explosion', 'sm')],\n",
    "    value=['ke'],\n",
    "    #rows=10,\n",
    "    description='Event type:',\n",
    "    disabled=False\n",
    ")\n",
    "#display(etype_selector)"
   ]
  },
  {
   "cell_type": "code",
   "execution_count": null,
   "metadata": {},
   "outputs": [],
   "source": [
    "plot_type_selector = widgets.Dropdown(\n",
    "    options=['basemap', 'folium'],\n",
    "    value='folium',\n",
    "    description='Plot type:',\n",
    "    disabled=False,\n",
    ")\n",
    "#display(plot_type_selector)"
   ]
  },
  {
   "cell_type": "code",
   "execution_count": null,
   "metadata": {},
   "outputs": [],
   "source": [
    "folium_map = None"
   ]
  },
  {
   "cell_type": "code",
   "execution_count": null,
   "metadata": {},
   "outputs": [],
   "source": [
    "## Seismotectonic source model\n",
    "folium_layers = []\n",
    "try:\n",
    "    import hazard.rshalib as rshalib\n",
    "except:\n",
    "    pass\n",
    "else:\n",
    "    somo = rshalib.rob.read_source_model('Seismotectonic_Hybrid')\n",
    "    az_model = rshalib.source.SourceModel('Seismotectonic zones', somo.get_area_sources())\n",
    "    flt_model = rshalib.source.SourceModel('RVRS faults', somo.get_fault_sources())\n",
    "    for somo in [az_model, flt_model]:\n",
    "        folium_layers.append(somo.to_folium_layer(area_fill_color='green', area_stroke_color='green',\n",
    "                                                  area_fill_opacity=0.2,\n",
    "                                                  fault_geom_type='both', show_popups=False))\n"
   ]
  },
  {
   "cell_type": "code",
   "execution_count": null,
   "metadata": {},
   "outputs": [],
   "source": [
    "def subselect_catalog(plot_type, min_date, max_date, lon_range, lat_range,\n",
    "                      mag_range, Mtype, depth_range, event_types):\n",
    "    global folium_map\n",
    "    \n",
    "    if plot_type == 'folium' and folium_map:\n",
    "        ## Unfortunately, folium map bounds are not updated, so this doesn't work...\n",
    "        ((lat_min, lon_min), (lat_max, lon_max)) = folium_map.get_bounds()\n",
    "        lon_range = [lon_min, lon_max]\n",
    "        lat_range = [lat_min, lat_max]\n",
    "\n",
    "    region = lon_range + lat_range\n",
    "    min_mag, max_mag = mag_range\n",
    "    if min_mag == mag_slider.min and max_mag == mag_slider.max:\n",
    "        ## Include undetermined magnitudes\n",
    "        min_mag = max_mag = None\n",
    "    min_depth, max_depth = depth_range\n",
    "        ## Include undetermined depths\n",
    "    if min_depth == depth_slider.min and max_depth == depth_slider.max:\n",
    "        min_depth = max_depth = None\n",
    "\n",
    "    subcat = full_cat.subselect(start_date=min_date, end_date=max_date,\n",
    "                               region=region,\n",
    "                               Mmin=min_mag, Mmax=max_mag, Mtype=Mtype,\n",
    "                               min_depth=min_depth, max_depth=max_depth,\n",
    "                               attr_val=('event_type', list(event_types)))\n",
    "    subcat.name = 'ROB Catalog'\n",
    "    if plot_type == 'basemap':\n",
    "        ax = subcat.plot_map(region=region, Mtype=Mtype, Mrelation={})\n",
    "    elif plot_type == 'folium':\n",
    "        folium_map = subcat.get_folium_map(Mtype=Mtype, Mrelation={}, region=region,\n",
    "                                          additional_layers=folium_layers)\n",
    "        display(folium_map)"
   ]
  },
  {
   "cell_type": "code",
   "execution_count": null,
   "metadata": {},
   "outputs": [],
   "source": [
    "interactive_plot = interactive(subselect_catalog,\n",
    "                               plot_type=plot_type_selector,\n",
    "                               #year_range=date_slider,\n",
    "                               min_date=start_date_picker, max_date=end_date_picker,\n",
    "                               lon_range=lon_slider, lat_range=lat_slider,\n",
    "                               mag_range=mag_slider, Mtype=mtype_selector,\n",
    "                               depth_range=depth_slider,\n",
    "                               event_types=etype_selector)\n",
    "#output = interactive_plot.children[-1]\n",
    "#output.layout.height = '350px'\n",
    "interactive_plot"
   ]
  },
  {
   "cell_type": "code",
   "execution_count": null,
   "metadata": {},
   "outputs": [],
   "source": []
  }
 ],
 "metadata": {
  "kernelspec": {
   "display_name": "Python [conda env:py3]",
   "language": "python",
   "name": "conda-env-py3-py"
  },
  "language_info": {
   "codemirror_mode": {
    "name": "ipython",
    "version": 3
   },
   "file_extension": ".py",
   "mimetype": "text/x-python",
   "name": "python",
   "nbconvert_exporter": "python",
   "pygments_lexer": "ipython3",
   "version": "3.7.1"
  }
 },
 "nbformat": 4,
 "nbformat_minor": 4
}
